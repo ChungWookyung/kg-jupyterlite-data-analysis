{
  "cells": [
    {
      "cell_type": "code",
      "execution_count": null,
      "metadata": {
        "colab": {
          "base_uri": "https://localhost:8080/",
          "height": 204
        },
        "id": "k-B2ibsVdO1k",
        "outputId": "25e3bd92-dcb3-4bd6-cdb3-deeeb7fd1610",
        "trusted": true
      },
      "outputs": [],
      "source": [
        "import pandas as pd\n",
        "import pyodide"
      ]
    },
    {
      "cell_type": "markdown",
      "metadata": {
        "id": "Kjtp2Fs6dR4D"
      },
      "source": [
        "## 1-1 行と列の概念"
      ]
    },
    {
      "cell_type": "code",
      "execution_count": null,
      "metadata": {
        "colab": {
          "base_uri": "https://localhost:8080/",
          "height": 204
        },
        "id": "k-B2ibsVdO1k",
        "outputId": "25e3bd92-dcb3-4bd6-cdb3-deeeb7fd1610",
        "trusted": true
      },
      "outputs": [],
      "source": [
        "import pandas as pd\n",
        "import pyodide\n",
        "data = pd.read_csv(pyodide.http.open_url('https://raw.githubusercontent.com/mwaskom/seaborn-data/master/iris.csv'))\n",
        "data.head()"
      ]
    },
    {
      "cell_type": "code",
      "execution_count": null,
      "metadata": {
        "colab": {
          "base_uri": "https://localhost:8080/"
        },
        "id": "yMxs9yMLent5",
        "outputId": "ef4c7abf-3c35-44e4-a32f-d79c6c2d5455",
        "trusted": true
      },
      "outputs": [],
      "source": [
        "data.columns"
      ]
    },
    {
      "cell_type": "code",
      "execution_count": null,
      "metadata": {
        "id": "s7sgj92Qeu9Q"
      },
      "outputs": [],
      "source": []
    },
    {
      "cell_type": "code",
      "execution_count": null,
      "metadata": {
        "colab": {
          "base_uri": "https://localhost:8080/"
        },
        "id": "lxH_ygLZeueV",
        "outputId": "f33d4f39-1cec-4351-eef3-516726a3a283",
        "trusted": true
      },
      "outputs": [],
      "source": [
        "data.shape"
      ]
    },
    {
      "cell_type": "code",
      "execution_count": null,
      "metadata": {
        "id": "d6j_m9Uoe1kR"
      },
      "outputs": [],
      "source": []
    },
    {
      "cell_type": "code",
      "execution_count": null,
      "metadata": {
        "colab": {
          "base_uri": "https://localhost:8080/"
        },
        "id": "R4-2Zjb5e2MJ",
        "outputId": "070553bf-f1fa-4e79-d282-1239deb22204",
        "trusted": true
      },
      "outputs": [],
      "source": [
        "data[\"sepal_width\"]"
      ]
    },
    {
      "cell_type": "code",
      "execution_count": null,
      "metadata": {
        "id": "AAffDRHgfAan"
      },
      "outputs": [],
      "source": []
    },
    {
      "cell_type": "markdown",
      "metadata": {
        "id": "QWaYnAn_fDAd"
      },
      "source": [
        "実習：データののspecies列をとってください"
      ]
    },
    {
      "cell_type": "code",
      "execution_count": null,
      "metadata": {
        "id": "Pmk4nGtEfCQZ"
      },
      "outputs": [],
      "source": []
    },
    {
      "cell_type": "code",
      "execution_count": null,
      "metadata": {
        "colab": {
          "base_uri": "https://localhost:8080/",
          "height": 419
        },
        "id": "hEbBZRvj1n5L",
        "outputId": "0a99dc14-4fd8-480b-9cb1-d251c84e4318",
        "trusted": true
      },
      "outputs": [],
      "source": [
        "data[[\"petal_length\",\"sepal_length\"]]"
      ]
    },
    {
      "cell_type": "markdown",
      "metadata": {
        "id": "7dFd7W2b1vKM"
      },
      "source": [
        "実習：データの列の順番を\"species\",\"sepal_width\",\"petal_width\",\"sepal_length\",\"petal_length\"に変えてください"
      ]
    },
    {
      "cell_type": "code",
      "execution_count": null,
      "metadata": {
        "id": "oc7syFcq2A44"
      },
      "outputs": [],
      "source": []
    },
    {
      "cell_type": "code",
      "execution_count": null,
      "metadata": {
        "id": "vIsYxd0m5lnL",
        "trusted": true
      },
      "outputs": [],
      "source": [
        "data2 = data.copy()\n",
        "data2.columns = [\"がく片の長さ\",\"がく片の広さ\",\"花びらの長さ\",\"花びらの広さ\",\"種類\"]\n",
        "data2.head()"
      ]
    },
    {
      "cell_type": "code",
      "execution_count": null,
      "metadata": {
        "id": "zoufns6j5laR"
      },
      "outputs": [],
      "source": []
    },
    {
      "cell_type": "markdown",
      "metadata": {
        "id": "aXW9-UKw55rV"
      },
      "source": [
        "実習：データををdata2という名前でコピーし、、data2の列名を[\"A\",\"B\",\"C\",\"D\",\"E\"]に変えてください"
      ]
    },
    {
      "cell_type": "markdown",
      "metadata": {
        "id": "9_z3yiOBekCQ"
      },
      "source": [
        "## 1-2 データの部分集合"
      ]
    },
    {
      "cell_type": "code",
      "execution_count": null,
      "metadata": {
        "colab": {
          "base_uri": "https://localhost:8080/"
        },
        "id": "i7n1y0mCdyoV",
        "outputId": "a9f8335f-321c-47f5-95a6-0ee0c669c3ee",
        "trusted": true
      },
      "outputs": [],
      "source": [
        "data.iloc[0,:]"
      ]
    },
    {
      "cell_type": "code",
      "execution_count": null,
      "metadata": {
        "id": "LAaNToBCeHk9"
      },
      "outputs": [],
      "source": []
    },
    {
      "cell_type": "code",
      "execution_count": null,
      "metadata": {
        "colab": {
          "base_uri": "https://localhost:8080/"
        },
        "id": "LPpiF6dJd43C",
        "outputId": "fa1b9250-b7be-494e-a8e0-b7102d799fe7",
        "trusted": true
      },
      "outputs": [],
      "source": [
        "data.iloc[:,2]"
      ]
    },
    {
      "cell_type": "code",
      "execution_count": null,
      "metadata": {
        "id": "JyawOOB3eIVv"
      },
      "outputs": [],
      "source": []
    },
    {
      "cell_type": "markdown",
      "metadata": {
        "id": "E2o34B2AeOyX"
      },
      "source": [
        "実習：データの3から５行目、２列から５列までをとってください"
      ]
    },
    {
      "cell_type": "code",
      "execution_count": null,
      "metadata": {
        "id": "EQw8lzB7eKma"
      },
      "outputs": [],
      "source": []
    },
    {
      "cell_type": "markdown",
      "metadata": {
        "id": "Srhz6MB5fQJi"
      },
      "source": [
        "## 1-3 データの置き換え"
      ]
    },
    {
      "cell_type": "code",
      "execution_count": null,
      "metadata": {
        "colab": {
          "base_uri": "https://localhost:8080/",
          "height": 204
        },
        "id": "tNKHIFLYeZJt",
        "outputId": "a840a006-b463-4af6-bee3-50fbb2dcbaf0",
        "trusted": true
      },
      "outputs": [],
      "source": [
        "data2 = data.copy()\n",
        "data2[\"NEW\"] = 1\n",
        "data2.head()"
      ]
    },
    {
      "cell_type": "code",
      "execution_count": null,
      "metadata": {
        "id": "02u7qOp4fiJA"
      },
      "outputs": [],
      "source": []
    },
    {
      "cell_type": "code",
      "execution_count": null,
      "metadata": {
        "colab": {
          "base_uri": "https://localhost:8080/",
          "height": 204
        },
        "id": "C9tI-g3NfnPv",
        "outputId": "83a598d2-db84-4138-e615-45ef4b0fcdc4",
        "trusted": true
      },
      "outputs": [],
      "source": [
        "data2 = data.copy()\n",
        "data2[\"sepal_width\"] = -100\n",
        "data2.head()"
      ]
    },
    {
      "cell_type": "code",
      "execution_count": null,
      "metadata": {
        "id": "l_FuANr6fm6b"
      },
      "outputs": [],
      "source": []
    },
    {
      "cell_type": "markdown",
      "metadata": {
        "id": "j7r9kGO00_V7"
      },
      "source": [
        "実習：データををdata2という名前でコピーし、data2に新しい列\"A\"を追加してください。\"A\"列の全ての値は文字列\"abcd\"にしてください"
      ]
    },
    {
      "cell_type": "code",
      "execution_count": null,
      "metadata": {
        "id": "LvbliwCQ8TDi"
      },
      "outputs": [],
      "source": []
    },
    {
      "cell_type": "code",
      "execution_count": null,
      "metadata": {
        "colab": {
          "base_uri": "https://localhost:8080/",
          "height": 204
        },
        "id": "i4T9UO0f1Sbp",
        "outputId": "53ca50f1-7e85-4346-8532-9071f2e8e29c",
        "trusted": true
      },
      "outputs": [],
      "source": [
        "data2 = data.copy()\n",
        "data2[\"petal_width100\"] = data2[\"petal_width\"]*100\n",
        "data2.head()"
      ]
    },
    {
      "cell_type": "code",
      "execution_count": null,
      "metadata": {
        "id": "Y2FvcdtX4xuu"
      },
      "outputs": [],
      "source": []
    },
    {
      "cell_type": "code",
      "execution_count": null,
      "metadata": {
        "colab": {
          "base_uri": "https://localhost:8080/",
          "height": 204
        },
        "id": "IqhBObkB42Vk",
        "outputId": "936ded34-3f34-47d4-cdd7-4b2c3710963e",
        "trusted": true
      },
      "outputs": [],
      "source": [
        "import numpy as np\n",
        "\n",
        "data2 = data.copy()\n",
        "data2[\"sepal_length_log\"] = np.log(data2[\"sepal_length\"])\n",
        "data2.head()"
      ]
    },
    {
      "cell_type": "code",
      "execution_count": null,
      "metadata": {
        "colab": {
          "base_uri": "https://localhost:8080/"
        },
        "id": "OGl17C3a41yy",
        "outputId": "2221715e-3e6b-496c-a701-dc9955d45de1"
      },
      "outputs": [],
      "source": []
    },
    {
      "cell_type": "markdown",
      "metadata": {
        "id": "qw_VmPs-4y5u"
      },
      "source": [
        "実習：データをdata2という名前でコピーし、data2の\"sepal_width\"列にnp.sin()関数を適用して\"sepal_width_sin\"という名前の列で追加してください\n",
        "\n"
      ]
    },
    {
      "cell_type": "code",
      "execution_count": null,
      "metadata": {
        "id": "psGOlGci6Fty"
      },
      "outputs": [],
      "source": []
    },
    {
      "cell_type": "code",
      "execution_count": null,
      "metadata": {
        "colab": {
          "base_uri": "https://localhost:8080/",
          "height": 37
        },
        "id": "hFKZIbje6fWx",
        "outputId": "fdbe0c20-c501-4724-ca34-426a2b202179",
        "trusted": true
      },
      "outputs": [],
      "source": [
        "d = {\"あ\":\"A\"}\n",
        "d[\"あ\"]"
      ]
    },
    {
      "cell_type": "code",
      "execution_count": null,
      "metadata": {
        "id": "KZR88PGQ6lH0"
      },
      "outputs": [],
      "source": []
    },
    {
      "cell_type": "code",
      "execution_count": null,
      "metadata": {
        "colab": {
          "base_uri": "https://localhost:8080/"
        },
        "id": "ICauwPGW6lhp",
        "outputId": "e8ef1942-46b9-4ec1-f2ec-e79d489de0a1",
        "trusted": true
      },
      "outputs": [],
      "source": [
        "d = {\"あ\":\"A\",\"い\":\"I\",\"う\":\"U\",\"え\":\"E\",\"お\":\"O\"}\n",
        "print(d[\"あ\"],d[\"い\"],d[\"う\"],d[\"え\"],d[\"お\"])"
      ]
    },
    {
      "cell_type": "code",
      "execution_count": null,
      "metadata": {
        "id": "BjrF6msZ6mMN"
      },
      "outputs": [],
      "source": []
    },
    {
      "cell_type": "code",
      "execution_count": null,
      "metadata": {
        "colab": {
          "base_uri": "https://localhost:8080/"
        },
        "id": "DMpp7hwK6Qpm",
        "outputId": "cf54fbd5-2409-4be0-ad42-2daf4fe701c8",
        "trusted": true
      },
      "outputs": [],
      "source": [
        "print(data[\"species\"].unique())\n",
        "data[\"species\"].replace({\"setosa\":\"せとさ\",\"versicolor\":\"ばーしからー\",\"virginica\":\"ばーじにか\"})"
      ]
    },
    {
      "cell_type": "code",
      "execution_count": null,
      "metadata": {
        "id": "_HsQkuZD69Sj"
      },
      "outputs": [],
      "source": []
    },
    {
      "cell_type": "code",
      "execution_count": null,
      "metadata": {
        "id": "X1R7kijw7WF0",
        "trusted": true
      },
      "outputs": [],
      "source": [
        "data2 = data.copy()\n",
        "data2[\"species\"] = data2[\"species\"].replace({\"setosa\":\"せとさ\",\"versicolor\":\"ばーしからー\",\"virginica\":\"ばーじにか\"})\n",
        "data2.head()"
      ]
    },
    {
      "cell_type": "code",
      "execution_count": null,
      "metadata": {
        "id": "MBC8aSTd7cq_"
      },
      "outputs": [],
      "source": []
    },
    {
      "cell_type": "markdown",
      "metadata": {
        "id": "reXKZuhR7dQ8"
      },
      "source": [
        "実習：データをdata2という名前でコピーし、、data2の\"species\"列の値を置き換えてください。\"setosa\"は\"S\"、\"versicolor\"は\"C\",\"virginica\"は\"V\"に置き換えてください"
      ]
    },
    {
      "cell_type": "code",
      "execution_count": null,
      "metadata": {
        "id": "rKxwjqFk7dml"
      },
      "outputs": [],
      "source": []
    },
    {
      "cell_type": "markdown",
      "metadata": {
        "id": "bAO0Pclq6GJ6"
      },
      "source": [
        "## 2 実習：CPSデータ\n",
        "\n"
      ]
    },
    {
      "cell_type": "code",
      "execution_count": null,
      "metadata": {
        "colab": {
          "base_uri": "https://localhost:8080/",
          "height": 204
        },
        "id": "l6tD_ykI8MYT",
        "outputId": "a6d88b19-0cb7-4d7d-d933-9ba9c65f1b6f",
        "trusted": true
      },
      "outputs": [],
      "source": [
        "data = pd.read_csv(pyodide.http.open_url(\"https://raw.githubusercontent.com/ChungWookyung/kg-jupyterlite-data-analysis/main/content/DATA/CPS1988.csv\"))\n",
        "data.head()"
      ]
    },
    {
      "cell_type": "code",
      "execution_count": null,
      "metadata": {
        "colab": {
          "base_uri": "https://localhost:8080/"
        },
        "id": "HkulEVvb-cM2",
        "outputId": "4dc5e988-515a-42c0-8333-775d42343e2e",
        "trusted": true
      },
      "outputs": [],
      "source": [
        "data[\"region\"].unique()"
      ]
    },
    {
      "cell_type": "markdown",
      "metadata": {
        "id": "JQHw0Us29IRB"
      },
      "source": [
        "実習：データをdata2という名前にコピーしてください。次に、data2の列名を日本語に置き換えてください(smsaは\"都心部\"という日本語で訳してください)"
      ]
    },
    {
      "cell_type": "code",
      "execution_count": null,
      "metadata": {
        "id": "Vkp4Yvmb9cUC"
      },
      "outputs": [],
      "source": []
    },
    {
      "cell_type": "markdown",
      "metadata": {
        "id": "6bJ6VdaR9c07"
      },
      "source": [
        "実習：データををdata2という名前にコピーしてください。次に、data2の\"wage\"列にnp.log()関数を適用し、\"wage_log\"という新しい列でセーブしてください"
      ]
    },
    {
      "cell_type": "code",
      "execution_count": null,
      "metadata": {
        "id": "6vgDdm2_9wLq"
      },
      "outputs": [],
      "source": []
    },
    {
      "cell_type": "markdown",
      "metadata": {
        "id": "eYWBmZ4-9wlt"
      },
      "source": [
        "実習：データををdata2という名前にコピーしてください。次に、data2の\"ethnicity\"における、\"cauc\"の値を\"白人\"に、\"afam\"の値を\"黒人\"に置き換えてください"
      ]
    },
    {
      "cell_type": "code",
      "execution_count": null,
      "metadata": {
        "id": "zK2y1kqE-QqS"
      },
      "outputs": [],
      "source": []
    },
    {
      "cell_type": "markdown",
      "metadata": {
        "id": "ZUHgFnk9-RAj"
      },
      "source": [
        "実習：データををdata2という名前にコピーしてください。次に、data2の\"smsa\"列と\"parttime\"列の値を\"yes\"は\"はい\"で、\"no\"は\"いいえ\"で置き換えてください"
      ]
    },
    {
      "cell_type": "code",
      "execution_count": null,
      "metadata": {
        "id": "48Slytv7-1z4"
      },
      "outputs": [],
      "source": []
    },
    {
      "cell_type": "markdown",
      "metadata": {
        "id": "_UcHllgf-2T-"
      },
      "source": [
        "実習：データををdata2という名前にコピーしてください。次に、data2の\"region\"列の値を日本語に翻訳して置き換えてください"
      ]
    },
    {
      "cell_type": "code",
      "execution_count": null,
      "metadata": {
        "id": "zQLnCef8_AcW"
      },
      "outputs": [],
      "source": []
    },
    {
      "cell_type": "markdown",
      "metadata": {
        "id": "eoXB6Kdt_BKK"
      },
      "source": [
        "## 3-1 Datetime形式"
      ]
    },
    {
      "cell_type": "code",
      "execution_count": null,
      "metadata": {
        "colab": {
          "base_uri": "https://localhost:8080/"
        },
        "id": "GsQMKlFYHqD9",
        "outputId": "4592fdaa-eb4e-470f-b622-85d2c9c102e8",
        "trusted": true
      },
      "outputs": [],
      "source": [
        "pd.date_range(start=\"2000/01/01\", end=\"2030/01/01\")"
      ]
    },
    {
      "cell_type": "code",
      "execution_count": null,
      "metadata": {
        "id": "vl033vraOamb"
      },
      "outputs": [],
      "source": []
    },
    {
      "cell_type": "code",
      "execution_count": null,
      "metadata": {
        "colab": {
          "base_uri": "https://localhost:8080/"
        },
        "id": "lBLn4gGvKX8O",
        "outputId": "247801db-f423-4bca-92c8-a9da33467fed",
        "trusted": true
      },
      "outputs": [],
      "source": [
        "pd.date_range(start=\"2000/01/01\", periods=365)"
      ]
    },
    {
      "cell_type": "code",
      "execution_count": null,
      "metadata": {
        "id": "7hQ6B4VYObE0"
      },
      "outputs": [],
      "source": []
    },
    {
      "cell_type": "code",
      "execution_count": null,
      "metadata": {
        "colab": {
          "base_uri": "https://localhost:8080/"
        },
        "id": "FrAdIDDLKeQw",
        "outputId": "484d8b0d-3de2-44ea-ee2b-9af2c9ceee61",
        "trusted": true
      },
      "outputs": [],
      "source": [
        "pd.date_range(start=\"2000/01/01\", periods=12, freq=\"M\")"
      ]
    },
    {
      "cell_type": "code",
      "execution_count": null,
      "metadata": {
        "id": "eX-O5iSFObgv"
      },
      "outputs": [],
      "source": []
    },
    {
      "cell_type": "code",
      "execution_count": null,
      "metadata": {
        "colab": {
          "base_uri": "https://localhost:8080/"
        },
        "id": "zT_uPygGKj2L",
        "outputId": "51a452ef-a243-4351-b2bc-87d93e114705",
        "trusted": true
      },
      "outputs": [],
      "source": [
        "pd.date_range(start=\"2000/01/01\", periods=10, freq=\"Y\")"
      ]
    },
    {
      "cell_type": "code",
      "execution_count": null,
      "metadata": {
        "id": "EZkCCgkwOb9G"
      },
      "outputs": [],
      "source": []
    },
    {
      "cell_type": "code",
      "execution_count": null,
      "metadata": {
        "colab": {
          "base_uri": "https://localhost:8080/"
        },
        "id": "feVdUxIHKu6S",
        "outputId": "45d43d0c-d263-4b1c-92fb-04847009ce33",
        "trusted": true
      },
      "outputs": [],
      "source": [
        "pd.date_range(start=\"2000/01/01\", periods=12, freq=\"MS\")"
      ]
    },
    {
      "cell_type": "code",
      "execution_count": null,
      "metadata": {
        "id": "uG15mvVfOcpD"
      },
      "outputs": [],
      "source": []
    },
    {
      "cell_type": "code",
      "execution_count": null,
      "metadata": {
        "colab": {
          "base_uri": "https://localhost:8080/"
        },
        "id": "JfCgeVeOK7mu",
        "outputId": "a63371ae-a8e0-421e-a70b-99f2a443869e",
        "trusted": true
      },
      "outputs": [],
      "source": [
        "pd.date_range(start=\"2000/01/01\", periods=10, freq=\"YS\")"
      ]
    },
    {
      "cell_type": "code",
      "execution_count": null,
      "metadata": {
        "id": "lL0ZTvnFOdP1"
      },
      "outputs": [],
      "source": []
    },
    {
      "cell_type": "markdown",
      "metadata": {
        "id": "JbA6IHYxNS4q"
      },
      "source": [
        "実習：2010年6月1日から今日まで、毎日のdatetimeを生成してください"
      ]
    },
    {
      "cell_type": "code",
      "execution_count": null,
      "metadata": {
        "id": "D7pkqeDHNlW5"
      },
      "outputs": [],
      "source": []
    },
    {
      "cell_type": "markdown",
      "metadata": {
        "id": "5UjAVss6Nl1u"
      },
      "source": [
        "実習：あなたの誕生日から20年間まで、毎月のdatetimeを生成してください"
      ]
    },
    {
      "cell_type": "code",
      "execution_count": null,
      "metadata": {
        "id": "aoyYPPTzNysl"
      },
      "outputs": [],
      "source": []
    },
    {
      "cell_type": "markdown",
      "metadata": {
        "id": "pOMDHHZ6NzUx"
      },
      "source": [
        "実習：1990年3月1日から今年まで、毎年のdatetimeを生成してください。その時、毎年の1月1日が基準になります。"
      ]
    },
    {
      "cell_type": "code",
      "execution_count": null,
      "metadata": {
        "id": "wO_0R4LgOEpH"
      },
      "outputs": [],
      "source": []
    },
    {
      "cell_type": "markdown",
      "metadata": {
        "id": "2VH8IhaWOGfs"
      },
      "source": [
        "## 3-2 文字列への変換"
      ]
    },
    {
      "cell_type": "code",
      "execution_count": null,
      "metadata": {
        "colab": {
          "base_uri": "https://localhost:8080/"
        },
        "id": "BIQfJZGmONOR",
        "outputId": "cbd7ccc6-23a6-49ae-e046-f8aaa979fcf5",
        "trusted": true
      },
      "outputs": [],
      "source": [
        "d = pd.date_range(start=\"2000/01/01\", end=\"2030/01/01\")\n",
        "d.year"
      ]
    },
    {
      "cell_type": "code",
      "execution_count": null,
      "metadata": {
        "id": "fewBNBGeOe-h"
      },
      "outputs": [],
      "source": []
    },
    {
      "cell_type": "code",
      "execution_count": null,
      "metadata": {
        "colab": {
          "base_uri": "https://localhost:8080/"
        },
        "id": "qOBzl1pQOXHb",
        "outputId": "fbdbe579-5206-453f-c6bf-8c20d7fb86f6",
        "trusted": true
      },
      "outputs": [],
      "source": [
        "d.month"
      ]
    },
    {
      "cell_type": "code",
      "execution_count": null,
      "metadata": {
        "id": "J1Qp_-z0OfkO"
      },
      "outputs": [],
      "source": []
    },
    {
      "cell_type": "code",
      "execution_count": null,
      "metadata": {
        "colab": {
          "base_uri": "https://localhost:8080/"
        },
        "id": "vnIdeChEOZLH",
        "outputId": "a610d28a-066c-4f84-a8a4-07cfc878a701",
        "trusted": true
      },
      "outputs": [],
      "source": [
        "d.day"
      ]
    },
    {
      "cell_type": "code",
      "execution_count": null,
      "metadata": {
        "id": "lsg70fJAOi15"
      },
      "outputs": [],
      "source": []
    },
    {
      "cell_type": "code",
      "execution_count": null,
      "metadata": {
        "colab": {
          "base_uri": "https://localhost:8080/",
          "height": 204
        },
        "id": "XqSvu7xYOk2c",
        "outputId": "3b3a6d29-f73e-4210-da41-fceb397d5ea1",
        "trusted": true
      },
      "outputs": [],
      "source": [
        "data = pd.DataFrame({\"Date\":d,\"Value\":1})\n",
        "data.head()"
      ]
    },
    {
      "cell_type": "code",
      "execution_count": null,
      "metadata": {
        "id": "yGfcj25jOw4u"
      },
      "outputs": [],
      "source": []
    },
    {
      "cell_type": "code",
      "execution_count": null,
      "metadata": {
        "colab": {
          "base_uri": "https://localhost:8080/"
        },
        "id": "tH1U0DFLOxy3",
        "outputId": "3e9728ea-0791-466c-a1ab-eb60e4e4809c",
        "trusted": true
      },
      "outputs": [],
      "source": [
        "pd.DatetimeIndex(data[\"Date\"]).year"
      ]
    },
    {
      "cell_type": "code",
      "execution_count": null,
      "metadata": {
        "id": "oXRXED2CPdY2"
      },
      "outputs": [],
      "source": []
    },
    {
      "cell_type": "code",
      "execution_count": null,
      "metadata": {
        "colab": {
          "base_uri": "https://localhost:8080/",
          "height": 204
        },
        "id": "Wa5YZnzCPduQ",
        "outputId": "9733b283-a65d-44b3-b556-65f3276bc8c1",
        "trusted": true
      },
      "outputs": [],
      "source": [
        "data[\"Year\"] = pd.DatetimeIndex(data[\"Date\"]).year\n",
        "data.head()"
      ]
    },
    {
      "cell_type": "markdown",
      "metadata": {
        "id": "QaGckL_7OwSe"
      },
      "source": [
        "実習：データに\"Month\"という列を追加し、\"Date\"列における月を入力してください"
      ]
    },
    {
      "cell_type": "code",
      "execution_count": null,
      "metadata": {
        "id": "ORhYA-nAP0Br"
      },
      "outputs": [],
      "source": []
    },
    {
      "cell_type": "markdown",
      "metadata": {
        "id": "Tvs7qweIP0YK"
      },
      "source": [
        "実習：データに\"Day\"という列を追加し、\"Date\"列における日を入力してください"
      ]
    },
    {
      "cell_type": "code",
      "execution_count": null,
      "metadata": {
        "id": "v8GzpjmdP9sU"
      },
      "outputs": [],
      "source": []
    },
    {
      "cell_type": "code",
      "execution_count": null,
      "metadata": {
        "colab": {
          "base_uri": "https://localhost:8080/"
        },
        "id": "XwpxFcLpQFz5",
        "outputId": "77a8afc3-83c4-4043-f4c8-5cc6dcc13553",
        "trusted": true
      },
      "outputs": [],
      "source": [
        "pd.DatetimeIndex(data[\"Date\"]).strftime(\"%Y\")"
      ]
    },
    {
      "cell_type": "code",
      "execution_count": null,
      "metadata": {
        "id": "7UDib7QVQd5S"
      },
      "outputs": [],
      "source": []
    },
    {
      "cell_type": "code",
      "execution_count": null,
      "metadata": {
        "colab": {
          "base_uri": "https://localhost:8080/"
        },
        "id": "uVuNBhjdQe4o",
        "outputId": "5f2effef-8425-4024-c3b9-316388aa63ed",
        "trusted": true
      },
      "outputs": [],
      "source": [
        "pd.DatetimeIndex(data[\"Date\"]).strftime(\"%Y年%m月%d日\")"
      ]
    },
    {
      "cell_type": "code",
      "execution_count": null,
      "metadata": {
        "id": "NMAN2RZNQvfw"
      },
      "outputs": [],
      "source": []
    },
    {
      "cell_type": "code",
      "execution_count": null,
      "metadata": {
        "colab": {
          "base_uri": "https://localhost:8080/",
          "height": 204
        },
        "id": "xtMezA6WQv2A",
        "outputId": "970c1ea4-8105-454b-9c83-8676d56248c9",
        "trusted": true
      },
      "outputs": [],
      "source": [
        "data[\"JPN_Date\"] = pd.DatetimeIndex(data[\"Date\"]).strftime(\"%Y年%m月%d日\")\n",
        "data.head()"
      ]
    },
    {
      "cell_type": "code",
      "execution_count": null,
      "metadata": {
        "id": "lN8mA_SiQ5Kf"
      },
      "outputs": [],
      "source": []
    },
    {
      "cell_type": "markdown",
      "metadata": {
        "id": "UympLZzLQ6rL"
      },
      "source": [
        "実習：データに\"Date_New\"列を追加し、日付を日/月/年に変換した文字列を入力してください。例えば、2022年6月13日は\"13/06/2022\"になります"
      ]
    },
    {
      "cell_type": "code",
      "execution_count": null,
      "metadata": {
        "id": "VWRgtvEGReQb"
      },
      "outputs": [],
      "source": []
    },
    {
      "cell_type": "markdown",
      "metadata": {
        "id": "klgEATjxbmtV"
      },
      "source": [
        "## 4 株価指数データ"
      ]
    },
    {
      "cell_type": "code",
      "execution_count": null,
      "metadata": {
        "colab": {
          "base_uri": "https://localhost:8080/",
          "height": 204
        },
        "id": "HWLGnEsqbt_D",
        "outputId": "bde8cae6-6288-4c28-d556-ae43a2d05c07",
        "trusted": true
      },
      "outputs": [],
      "source": [
        "data = pd.read_csv(pyodide.http.open_url(\"https://raw.githubusercontent.com/ChungWookyung/kg-jupyterlite-data-analysis/main/content/DATA/nikkei.csv\"))\n",
        "data[\"DATE\"] = pd.DatetimeIndex(data[\"DATE\"])\n",
        "data.head()"
      ]
    },
    {
      "cell_type": "markdown",
      "metadata": {
        "id": "HoozdbZXcIVF"
      },
      "source": [
        "実習：データにYEAR,MONTH,DAY列を追加し、追加し、DATE列の年、月、日を入力してください"
      ]
    },
    {
      "cell_type": "code",
      "execution_count": null,
      "metadata": {
        "id": "zF8wtz8CccJ5"
      },
      "outputs": [],
      "source": []
    },
    {
      "cell_type": "markdown",
      "metadata": {
        "id": "PokVlo2oceOb"
      },
      "source": [
        "実習：データにDATE_JPN列を追加し、日本語で表記された日付を入力してください"
      ]
    },
    {
      "cell_type": "code",
      "execution_count": null,
      "metadata": {
        "id": "YL46kEGHcojL"
      },
      "outputs": [],
      "source": []
    },
    {
      "cell_type": "code",
      "execution_count": null,
      "metadata": {
        "colab": {
          "base_uri": "https://localhost:8080/",
          "height": 235
        },
        "id": "HP3QBmqUcpmL",
        "outputId": "b0a6f549-9c0f-4540-d735-4e880bddbe1e",
        "trusted": true
      },
      "outputs": [],
      "source": [
        "data[\"WEEKDAY\"] = pd.DatetimeIndex(data[\"DATE\"]).weekday\n",
        "data.groupby(\"WEEKDAY\").mean()"
      ]
    },
    {
      "cell_type": "markdown",
      "metadata": {
        "id": "AbCb9dqcdFIi"
      },
      "source": [
        "実習：groupby()を用いて、データの年別と月別の平均を求めてください"
      ]
    },
    {
      "cell_type": "code",
      "execution_count": null,
      "metadata": {
        "id": "f9n-1JzMdQFp"
      },
      "outputs": [],
      "source": []
    },
    {
      "cell_type": "markdown",
      "metadata": {
        "id": "6Oq4QUp3pGM3"
      },
      "source": [
        "## 5-1 文字列の一括処理"
      ]
    },
    {
      "cell_type": "code",
      "execution_count": null,
      "metadata": {
        "colab": {
          "base_uri": "https://localhost:8080/",
          "height": 204
        },
        "id": "P4fmlX4zpNcl",
        "outputId": "063130e8-0ea4-4b34-a3df-e9b43224806f",
        "trusted": true
      },
      "outputs": [],
      "source": [
        "data = pd.DataFrame({\"col1\":[\"A\",\"A\",\"A\",\"A\",\"A\"],\"col2\":\"B\"})\n",
        "data.head()"
      ]
    },
    {
      "cell_type": "code",
      "execution_count": null,
      "metadata": {
        "id": "xQj1X1gDpdNu"
      },
      "outputs": [],
      "source": []
    },
    {
      "cell_type": "code",
      "execution_count": null,
      "metadata": {
        "colab": {
          "base_uri": "https://localhost:8080/"
        },
        "id": "GPF-LiCzpdq6",
        "outputId": "9c1c59eb-6474-43ed-f8f2-c4e7e3b886b9",
        "trusted": true
      },
      "outputs": [],
      "source": [
        "data[\"col1\"] + \"1\""
      ]
    },
    {
      "cell_type": "code",
      "execution_count": null,
      "metadata": {
        "id": "g94qzIH1tZw9"
      },
      "outputs": [],
      "source": []
    },
    {
      "cell_type": "code",
      "execution_count": null,
      "metadata": {
        "colab": {
          "base_uri": "https://localhost:8080/"
        },
        "id": "3LKGCSwXtaEK",
        "outputId": "bbcd1f5c-5e57-4941-ce5d-7bd6c16d0fc7",
        "trusted": true
      },
      "outputs": [],
      "source": [
        "\"a\" + data[\"col1\"]"
      ]
    },
    {
      "cell_type": "code",
      "execution_count": null,
      "metadata": {
        "id": "CIlDQp7Cte0m"
      },
      "outputs": [],
      "source": []
    },
    {
      "cell_type": "code",
      "execution_count": null,
      "metadata": {
        "colab": {
          "base_uri": "https://localhost:8080/"
        },
        "id": "1-se6pNktge5",
        "outputId": "404cf1da-74c7-40fa-8cb7-d8a0f50cfe41",
        "trusted": true
      },
      "outputs": [],
      "source": [
        "data[\"col1\"] + data[\"col2\"]"
      ]
    },
    {
      "cell_type": "code",
      "execution_count": null,
      "metadata": {
        "id": "2PV9Bt41tjrx"
      },
      "outputs": [],
      "source": []
    },
    {
      "cell_type": "code",
      "execution_count": null,
      "metadata": {
        "colab": {
          "base_uri": "https://localhost:8080/",
          "height": 204
        },
        "id": "oXm-s-uStkMt",
        "outputId": "414e83f5-aff8-4a5f-f598-281415e8a6c6",
        "trusted": true
      },
      "outputs": [],
      "source": [
        "data2 = data.copy()\n",
        "data2[\"col3\"] = data2[\"col1\"] + \"1\"\n",
        "data2[\"col4\"] = \"a\" + data2[\"col1\"]\n",
        "data2[\"col5\"] = data2[\"col1\"] + data2[\"col2\"]\n",
        "data2.head()"
      ]
    },
    {
      "cell_type": "code",
      "execution_count": null,
      "metadata": {
        "id": "mxmcFaR3t2Rm"
      },
      "outputs": [],
      "source": []
    },
    {
      "cell_type": "markdown",
      "metadata": {
        "id": "e45rPFrqt3f7"
      },
      "source": [
        "実習：データをdata2という名前でコピーし、data2に文字列の一括処理を使った新しい列を３つ追加してください"
      ]
    },
    {
      "cell_type": "code",
      "execution_count": null,
      "metadata": {
        "id": "Ygo1imgcuEiC"
      },
      "outputs": [],
      "source": []
    },
    {
      "cell_type": "markdown",
      "metadata": {
        "id": "FVKvZGteuGzP"
      },
      "source": [
        "## 5-2 split()の活用"
      ]
    },
    {
      "cell_type": "code",
      "execution_count": null,
      "metadata": {
        "colab": {
          "base_uri": "https://localhost:8080/",
          "height": 204
        },
        "id": "rFaRemn7uFGf",
        "outputId": "5d4bf680-e3aa-443c-e884-fc4e8b4ac0e6",
        "trusted": true
      },
      "outputs": [],
      "source": [
        "data = pd.read_csv(pyodide.http.open_url(\"https://raw.githubusercontent.com/ChungWookyung/kg-jupyterlite-data-analysis/main/content/DATA/nikkei.csv\"))\n",
        "data.head()"
      ]
    },
    {
      "cell_type": "code",
      "execution_count": null,
      "metadata": {
        "colab": {
          "base_uri": "https://localhost:8080/"
        },
        "id": "NtQEj3Kru2qU",
        "outputId": "a41fcd9d-0d28-415e-8615-f01b84704e9a",
        "trusted": true
      },
      "outputs": [],
      "source": [
        "data[\"DATE\"].str[0:4]"
      ]
    },
    {
      "cell_type": "code",
      "execution_count": null,
      "metadata": {
        "id": "NfuU7eOtu7Pi"
      },
      "outputs": [],
      "source": []
    },
    {
      "cell_type": "code",
      "execution_count": null,
      "metadata": {
        "colab": {
          "base_uri": "https://localhost:8080/"
        },
        "id": "0_ofb1yWu8YR",
        "outputId": "2909bd19-afa1-452d-9070-70e1a6fcb209",
        "trusted": true
      },
      "outputs": [],
      "source": [
        "data[\"DATE\"].str[5:7]"
      ]
    },
    {
      "cell_type": "code",
      "execution_count": null,
      "metadata": {
        "id": "h23brc20u8Io"
      },
      "outputs": [],
      "source": []
    },
    {
      "cell_type": "code",
      "execution_count": null,
      "metadata": {
        "colab": {
          "base_uri": "https://localhost:8080/"
        },
        "id": "KwMqWp3-u79X",
        "outputId": "91b2751c-d50b-41ef-916a-4b4af1434361",
        "trusted": true
      },
      "outputs": [],
      "source": [
        "data[\"DATE\"].str[8:10]"
      ]
    },
    {
      "cell_type": "code",
      "execution_count": null,
      "metadata": {
        "id": "Y3I5D9rau7wQ"
      },
      "outputs": [],
      "source": []
    },
    {
      "cell_type": "markdown",
      "metadata": {
        "id": "QkMGFrsZvKqQ"
      },
      "source": [
        "実習：.strを使って、データに\"YEAR\",\"MONTH\",\"DAY\"という三つの新しい列を追加してください。各列の値は年と月と日を入力してください"
      ]
    },
    {
      "cell_type": "code",
      "execution_count": null,
      "metadata": {
        "id": "PSmmjEQbvgXi"
      },
      "outputs": [],
      "source": []
    },
    {
      "cell_type": "code",
      "execution_count": null,
      "metadata": {
        "colab": {
          "base_uri": "https://localhost:8080/",
          "height": 419
        },
        "id": "dHe1XEGuuf42",
        "outputId": "283f1bf3-2d61-47a1-cfa8-41863975b87f",
        "trusted": true
      },
      "outputs": [],
      "source": [
        "data[\"DATE\"].str.split(\"-\",expand=True)"
      ]
    },
    {
      "cell_type": "code",
      "execution_count": null,
      "metadata": {
        "id": "A7wnVIs7vh08"
      },
      "outputs": [],
      "source": []
    },
    {
      "cell_type": "code",
      "execution_count": null,
      "metadata": {
        "colab": {
          "base_uri": "https://localhost:8080/"
        },
        "id": "JFuRBmXUvj_q",
        "outputId": "2121a08e-c692-41c8-a59e-70c7c486afc3",
        "trusted": true
      },
      "outputs": [],
      "source": [
        "d = data[\"DATE\"].str.split(\"-\",expand=True)\n",
        "d[0].head()"
      ]
    },
    {
      "cell_type": "code",
      "execution_count": null,
      "metadata": {
        "id": "O_KP20CivubQ"
      },
      "outputs": [],
      "source": []
    },
    {
      "cell_type": "code",
      "execution_count": null,
      "metadata": {
        "colab": {
          "base_uri": "https://localhost:8080/"
        },
        "id": "qT0cKjOJvt7K",
        "outputId": "97a5c9a4-01e2-45e7-9613-17b219396b9f",
        "trusted": true
      },
      "outputs": [],
      "source": [
        "d = data[\"DATE\"].str.split(\"-\",expand=True)\n",
        "d[1].head()"
      ]
    },
    {
      "cell_type": "code",
      "execution_count": null,
      "metadata": {
        "id": "Gp35M1QSvxGk"
      },
      "outputs": [],
      "source": []
    },
    {
      "cell_type": "code",
      "execution_count": null,
      "metadata": {
        "colab": {
          "base_uri": "https://localhost:8080/"
        },
        "id": "BEW8p_XIvxuJ",
        "outputId": "fc0288fe-9dec-4917-81b3-58ddac29b4bf",
        "trusted": true
      },
      "outputs": [],
      "source": [
        "d = data[\"DATE\"].str.split(\"-\",expand=True)\n",
        "d[2].head()"
      ]
    },
    {
      "cell_type": "code",
      "execution_count": null,
      "metadata": {
        "id": "qhnaf7GCv1lu"
      },
      "outputs": [],
      "source": []
    },
    {
      "cell_type": "markdown",
      "metadata": {
        "id": "wsEty5sov2B3"
      },
      "source": [
        "実習：.str.split()を使って、データに\"YEAR\",\"MONTH\",\"DAY\"という三つの新しい列を追加してください。各列の値は年と月と日を入力してください"
      ]
    },
    {
      "cell_type": "code",
      "execution_count": null,
      "metadata": {
        "id": "h-rV7-hDv4aq"
      },
      "outputs": [],
      "source": []
    }
  ],
  "metadata": {
    "colab": {
      "name": "DA10.ipynb",
      "provenance": []
    },
    "kernelspec": {
      "display_name": "Pyolite",
      "language": "python",
      "name": "python"
    },
    "language_info": {
      "codemirror_mode": {
        "name": "python",
        "version": 3
      },
      "file_extension": ".py",
      "mimetype": "text/x-python",
      "name": "python",
      "nbconvert_exporter": "python",
      "pygments_lexer": "ipython3",
      "version": "3.8"
    }
  },
  "nbformat": 4,
  "nbformat_minor": 4
}
