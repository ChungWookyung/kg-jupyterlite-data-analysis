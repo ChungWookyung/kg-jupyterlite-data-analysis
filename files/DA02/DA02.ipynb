{
  "cells": [
    {
      "cell_type": "markdown",
      "metadata": {
        "id": "vMwPlvyrDoIW"
      },
      "source": [
        "## 1. インポートでPandasを読み込む"
      ]
    },
    {
      "cell_type": "code",
      "execution_count": null,
      "metadata": {
        "id": "gzANptHzyUkk"
      },
      "outputs": [],
      "source": [
        "import pandas as pd"
      ]
    },
    {
      "cell_type": "code",
      "execution_count": null,
      "metadata": {
        "id": "Y1XEioShD28X"
      },
      "outputs": [],
      "source": [
        "pd.DataFrame({\"a\":[1,2,3,4,5], \"b\":[5,4,3,2,1]})"
      ]
    },
    {
      "cell_type": "code",
      "execution_count": null,
      "metadata": {
        "id": "IJ0FQQz2D4ZY"
      },
      "outputs": [],
      "source": [
        "import pandas"
      ]
    },
    {
      "cell_type": "code",
      "execution_count": null,
      "metadata": {
        "id": "z_BG56epD5oX"
      },
      "outputs": [],
      "source": [
        "pandas.DataFrame({\"a\":[1,2,3,4,5], \"b\":[5,4,3,2,1]})"
      ]
    },
    {
      "cell_type": "markdown",
      "metadata": {
        "id": "6Qy1ggitD-Jh"
      },
      "source": [
        "## 2. インデックスの概念"
      ]
    },
    {
      "cell_type": "code",
      "execution_count": null,
      "metadata": {
        "id": "8zOHJtBPD6wP"
      },
      "outputs": [],
      "source": [
        "data = pd.DataFrame({\"a\":[1,2,3,4,5], \"b\":[5,4,3,2,1], \"c\":[\"High\",\"Low\",\"High\",\"Med\",\"Low\"], \"d\":[0.1,0.2,0.5,0.3,0.2]})"
      ]
    },
    {
      "cell_type": "code",
      "execution_count": null,
      "metadata": {
        "id": "B3uIPHK2EHR6"
      },
      "outputs": [],
      "source": [
        "data.head()"
      ]
    },
    {
      "cell_type": "code",
      "execution_count": null,
      "metadata": {
        "id": "Bh5quT4XEJDi"
      },
      "outputs": [],
      "source": [
        "data[\"b\"]"
      ]
    },
    {
      "cell_type": "code",
      "execution_count": null,
      "metadata": {
        "id": "u_v3kGw5EKNI"
      },
      "outputs": [],
      "source": [
        "data[\"c\"]"
      ]
    },
    {
      "cell_type": "markdown",
      "metadata": {
        "id": "R8QL_wmSEPCJ"
      },
      "source": [
        "## 2.1 locでデータをインデックシングする\n"
      ]
    },
    {
      "cell_type": "code",
      "execution_count": null,
      "metadata": {
        "id": "Sth5_gmHELe1"
      },
      "outputs": [],
      "source": [
        "data.head()"
      ]
    },
    {
      "cell_type": "code",
      "execution_count": null,
      "metadata": {
        "id": "PIJN_GuMEffn"
      },
      "outputs": [],
      "source": [
        "data.loc[0,\"a\"]"
      ]
    },
    {
      "cell_type": "code",
      "execution_count": null,
      "metadata": {
        "id": "_R8EesaZEhn0"
      },
      "outputs": [],
      "source": [
        "data.loc[0:4,\"c\"]"
      ]
    },
    {
      "cell_type": "code",
      "execution_count": null,
      "metadata": {
        "id": "doSdo7anEivv"
      },
      "outputs": [],
      "source": [
        "data.loc[2:3,[\"c\",\"d\"]]"
      ]
    },
    {
      "cell_type": "code",
      "execution_count": null,
      "metadata": {
        "id": "mxir8tPcEkGy"
      },
      "outputs": [],
      "source": []
    },
    {
      "cell_type": "code",
      "execution_count": null,
      "metadata": {
        "id": "DPKI8vvwEl2R"
      },
      "outputs": [],
      "source": []
    },
    {
      "cell_type": "code",
      "execution_count": null,
      "metadata": {
        "id": "aeDlZKUzEnNM"
      },
      "outputs": [],
      "source": []
    },
    {
      "cell_type": "markdown",
      "metadata": {
        "id": "HuNn6SJ4En5O"
      },
      "source": [
        "## 2.2 ilocでデータをインデックシングする"
      ]
    },
    {
      "cell_type": "code",
      "execution_count": null,
      "metadata": {
        "id": "CKG4aRvbEnlS"
      },
      "outputs": [],
      "source": [
        "data.head()"
      ]
    },
    {
      "cell_type": "code",
      "execution_count": null,
      "metadata": {
        "id": "_tJz_AHzEp8j"
      },
      "outputs": [],
      "source": [
        "data.iloc[1,1]"
      ]
    },
    {
      "cell_type": "code",
      "execution_count": null,
      "metadata": {
        "id": "jQIV36INErHz"
      },
      "outputs": [],
      "source": [
        "data.iloc[0:3,2]"
      ]
    },
    {
      "cell_type": "code",
      "execution_count": null,
      "metadata": {
        "id": "GnIfIXvuEsA9"
      },
      "outputs": [],
      "source": [
        "data.iloc[:,3]"
      ]
    },
    {
      "cell_type": "code",
      "execution_count": null,
      "metadata": {
        "id": "DIY9DlyPEtIN"
      },
      "outputs": [],
      "source": []
    },
    {
      "cell_type": "code",
      "execution_count": null,
      "metadata": {
        "id": "9_i__HvhEtuL"
      },
      "outputs": [],
      "source": []
    },
    {
      "cell_type": "code",
      "execution_count": null,
      "metadata": {
        "id": "B5F4o83tEuYY"
      },
      "outputs": [],
      "source": []
    },
    {
      "cell_type": "markdown",
      "metadata": {
        "id": "nJi2ArqpExOJ"
      },
      "source": [
        "## 2.3 条件文の操作"
      ]
    },
    {
      "cell_type": "code",
      "execution_count": null,
      "metadata": {
        "id": "A1uw8LhxEuwd"
      },
      "outputs": [],
      "source": [
        "data.head()"
      ]
    },
    {
      "cell_type": "code",
      "execution_count": null,
      "metadata": {
        "id": "D8VHXXrSEzTT"
      },
      "outputs": [],
      "source": [
        "data[data[\"a\"] > 3]"
      ]
    },
    {
      "cell_type": "code",
      "execution_count": null,
      "metadata": {
        "id": "CfeYXGZwE0Yn"
      },
      "outputs": [],
      "source": [
        "data[data[\"d\"] <= 0.4]"
      ]
    },
    {
      "cell_type": "code",
      "execution_count": null,
      "metadata": {
        "id": "zvRYi02mE14M"
      },
      "outputs": [],
      "source": [
        "data[data[\"c\"] == \"High\"]"
      ]
    },
    {
      "cell_type": "code",
      "execution_count": null,
      "metadata": {
        "id": "xnaDZDlhE2V8"
      },
      "outputs": [],
      "source": []
    },
    {
      "cell_type": "code",
      "execution_count": null,
      "metadata": {
        "id": "WXcR4cU2E3ez"
      },
      "outputs": [],
      "source": []
    },
    {
      "cell_type": "code",
      "execution_count": null,
      "metadata": {
        "id": "iLU3MWGGE4hG"
      },
      "outputs": [],
      "source": []
    },
    {
      "cell_type": "markdown",
      "metadata": {
        "id": "kVWxYLh7E5dB"
      },
      "source": [
        "## 2.4 条件文の重複"
      ]
    },
    {
      "cell_type": "code",
      "execution_count": null,
      "metadata": {
        "id": "-btLRr01E417"
      },
      "outputs": [],
      "source": [
        "data.head()"
      ]
    },
    {
      "cell_type": "code",
      "execution_count": null,
      "metadata": {
        "id": "oKkz6L0JE8mT"
      },
      "outputs": [],
      "source": [
        "data[(data[\"a\"] >= 3) & (data[\"c\"] == \"High\")]"
      ]
    },
    {
      "cell_type": "code",
      "execution_count": null,
      "metadata": {
        "id": "dLdbWD-zE9u4"
      },
      "outputs": [],
      "source": [
        "data[(data[\"c\"] == \"Low\") | (data[\"a\"] == 1)]"
      ]
    },
    {
      "cell_type": "code",
      "execution_count": null,
      "metadata": {
        "id": "WTRF7-_NE-tC"
      },
      "outputs": [],
      "source": []
    },
    {
      "cell_type": "code",
      "execution_count": null,
      "metadata": {
        "id": "4lRhILCIE_YX"
      },
      "outputs": [],
      "source": []
    },
    {
      "cell_type": "markdown",
      "metadata": {
        "id": "tt53x40YFBTh"
      },
      "source": [
        "## 3 基礎統計量"
      ]
    },
    {
      "cell_type": "code",
      "execution_count": null,
      "metadata": {
        "id": "tWKawiCVE_s6"
      },
      "outputs": [],
      "source": [
        "data.head()"
      ]
    },
    {
      "cell_type": "code",
      "execution_count": null,
      "metadata": {
        "id": "-1m2WhZNFDMU"
      },
      "outputs": [],
      "source": [
        "data.describe()"
      ]
    },
    {
      "cell_type": "markdown",
      "metadata": {
        "id": "rV-XL1IBFGQt"
      },
      "source": [
        "## 3.1 平均"
      ]
    },
    {
      "cell_type": "code",
      "execution_count": null,
      "metadata": {
        "id": "MmXjDvHyFEIn"
      },
      "outputs": [],
      "source": [
        "data[\"a\"].mean()"
      ]
    },
    {
      "cell_type": "code",
      "execution_count": null,
      "metadata": {
        "id": "PAxnWOX5FIqK"
      },
      "outputs": [],
      "source": []
    },
    {
      "cell_type": "markdown",
      "metadata": {
        "id": "2eP56fHPFKAl"
      },
      "source": [
        "## 3.2 分散"
      ]
    },
    {
      "cell_type": "code",
      "execution_count": null,
      "metadata": {
        "id": "JMkzorGYFJM7"
      },
      "outputs": [],
      "source": [
        "data[\"d\"].var()"
      ]
    },
    {
      "cell_type": "code",
      "execution_count": null,
      "metadata": {
        "id": "EPNdw3ivFMn5"
      },
      "outputs": [],
      "source": [
        "data[\"a\"].std()"
      ]
    },
    {
      "cell_type": "code",
      "execution_count": null,
      "metadata": {
        "id": "OT0dygJ8FNn3"
      },
      "outputs": [],
      "source": []
    },
    {
      "cell_type": "markdown",
      "metadata": {
        "id": "KS_IemlWFP1B"
      },
      "source": [
        "## 3.3 その他基礎統計量"
      ]
    },
    {
      "cell_type": "code",
      "execution_count": null,
      "metadata": {
        "id": "YRBhbzHcFPJR"
      },
      "outputs": [],
      "source": [
        "data[\"a\"].max()"
      ]
    },
    {
      "cell_type": "code",
      "execution_count": null,
      "metadata": {
        "id": "V16N7Qy8FSo9"
      },
      "outputs": [],
      "source": [
        "data[\"a\"].min()"
      ]
    },
    {
      "cell_type": "code",
      "execution_count": null,
      "metadata": {
        "id": "CkRsARxHFTeo"
      },
      "outputs": [],
      "source": [
        "data[\"a\"].count()"
      ]
    },
    {
      "cell_type": "code",
      "execution_count": null,
      "metadata": {
        "id": "-vRwWbM5FUR9"
      },
      "outputs": [],
      "source": [
        "data[\"a\"].quantile(0.5)"
      ]
    },
    {
      "cell_type": "markdown",
      "metadata": {
        "id": "v6qne7zLFYUI"
      },
      "source": [
        "# 4 リアルなデータを操作すると？"
      ]
    },
    {
      "cell_type": "code",
      "execution_count": null,
      "metadata": {
        "id": "ajz4rol4FVNP"
      },
      "outputs": [],
      "source": [
        "import pyodide\n",
        "dt = pd.read_csv(pyodide.http.open_url(\"https://raw.githubusercontent.com/ChungWookyung/kg-jupyterlite-data-analysis/main/content/DATA/mhigh.csv\"))"
      ]
    },
    {
      "cell_type": "code",
      "execution_count": null,
      "metadata": {
        "id": "tXw5lUBaFcsF"
      },
      "outputs": [],
      "source": [
        "dt.head()"
      ]
    },
    {
      "cell_type": "code",
      "execution_count": null,
      "metadata": {
        "id": "YJOzFScgFds4"
      },
      "outputs": [],
      "source": []
    }
  ],
  "metadata": {
    "kernelspec": {
      "display_name": "Pyolite",
      "language": "python",
      "name": "python"
    },
    "language_info": {
      "codemirror_mode": {
        "name": "python",
        "version": 3
      },
      "file_extension": ".py",
      "mimetype": "text/x-python",
      "name": "python",
      "nbconvert_exporter": "python",
      "pygments_lexer": "ipython3",
      "version": "3.8"
    }
  },
  "nbformat": 4,
  "nbformat_minor": 0
}
