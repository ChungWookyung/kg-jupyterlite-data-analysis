{
  "cells": [
    {
      "cell_type": "markdown",
      "metadata": {
        "id": "DvuNm2Fc02L_"
      },
      "source": [
        "## 0-1 Seabornの導入"
      ]
    },
    {
      "cell_type": "code",
      "execution_count": null,
      "metadata": {
        "id": "ci36WtOl0Y6U",
        "trusted": true
      },
      "outputs": [],
      "source": [
        "import piplite\n",
        "import pyodide\n",
        "await piplite.install(\"seaborn\")\n",
        "\n",
        "import seaborn as sns\n",
        "import pandas as pd\n",
        "import numpy as np\n",
        "from matplotlib import pyplot as plt\n",
        "%matplotlib inline\n",
        "sns.set_theme(style=\"darkgrid\")"
      ]
    },
    {
      "cell_type": "markdown",
      "metadata": {
        "id": "deFXEdvu0yiX"
      },
      "source": [
        "最初の設定なので必ず上のコードを回す"
      ]
    },
    {
      "cell_type": "code",
      "execution_count": null,
      "metadata": {
        "colab": {
          "base_uri": "https://localhost:8080/",
          "height": 204
        },
        "id": "KReaSo-C0gP1",
        "outputId": "90bd1d77-c5e0-441d-f531-449c2fc97c10",
        "trusted": true
      },
      "outputs": [],
      "source": [
        "data = pd.read_csv(pyodide.http.open_url(\"https://raw.githubusercontent.com/ChungWookyung/kg-jupyterlite-data-analysis/main/content/DATA/covidGDP.csv\"))\n",
        "data.head()"
      ]
    },
    {
      "cell_type": "markdown",
      "metadata": {
        "id": "wKLb9QmB1GU4"
      },
      "source": [
        "前回のコロナ禍のデータで、累積感染者数とGDPの関係性を考えよう"
      ]
    },
    {
      "cell_type": "code",
      "execution_count": null,
      "metadata": {
        "colab": {
          "base_uri": "https://localhost:8080/",
          "height": 302
        },
        "id": "amxKdWwW1G1p",
        "outputId": "b2d4a800-1020-4286-a975-05cbdae06938",
        "trusted": true
      },
      "outputs": [],
      "source": [
        "sns.scatterplot(data = data, x = \"Confirmed\", y = \"GDP\")"
      ]
    },
    {
      "cell_type": "code",
      "execution_count": null,
      "metadata": {
        "id": "axWi9g0-1JHd"
      },
      "outputs": [],
      "source": []
    },
    {
      "cell_type": "markdown",
      "metadata": {
        "id": "mO2ZLCIe1Jwx"
      },
      "source": [
        "Seabornパッケージのヒストグラムを描く関数はscatterplotで、基本的にsns.scatterplot(data=データの名前, x=横軸に描きたい変数の名前, y=縦軸に描きたい変数の名前)である"
      ]
    },
    {
      "cell_type": "code",
      "execution_count": null,
      "metadata": {
        "colab": {
          "base_uri": "https://localhost:8080/",
          "height": 302
        },
        "id": "7nXvo6en1K0Z",
        "outputId": "64e36066-cc8d-49cf-deee-21b883ec10f9",
        "trusted": true
      },
      "outputs": [],
      "source": [
        "sns.scatterplot(data = data, x = \"GDP\", y = \"Confirmed\")"
      ]
    },
    {
      "cell_type": "code",
      "execution_count": null,
      "metadata": {
        "id": "CfEbts-_1MRG"
      },
      "outputs": [],
      "source": []
    },
    {
      "cell_type": "markdown",
      "metadata": {
        "id": "VJpuXzkC1N4J"
      },
      "source": [
        "横軸と縦軸を置き換えて描いてもいい"
      ]
    },
    {
      "cell_type": "code",
      "execution_count": null,
      "metadata": {
        "colab": {
          "base_uri": "https://localhost:8080/",
          "height": 302
        },
        "id": "KrxtMmZu1O4g",
        "outputId": "f104667a-0206-4a7c-f1e4-283810354cc0",
        "trusted": true
      },
      "outputs": [],
      "source": [
        "sns.scatterplot(data = data, x = \"Confirmed\", y = \"GDP\", color = \"red\")"
      ]
    },
    {
      "cell_type": "code",
      "execution_count": null,
      "metadata": {
        "id": "0NSat3_31P8E"
      },
      "outputs": [],
      "source": []
    },
    {
      "cell_type": "markdown",
      "metadata": {
        "id": "JhHT7-2j1UYh"
      },
      "source": [
        "色を変えることも出来る"
      ]
    },
    {
      "cell_type": "code",
      "execution_count": null,
      "metadata": {
        "colab": {
          "base_uri": "https://localhost:8080/",
          "height": 302
        },
        "id": "Z6pJRIdo1WYK",
        "outputId": "8735b2c2-991b-4043-90b0-5606f1220dbc",
        "trusted": true
      },
      "outputs": [],
      "source": [
        "sns.scatterplot(data = data, x = \"Confirmed\", y = \"GDP\", hue = \"Continent\")"
      ]
    },
    {
      "cell_type": "code",
      "execution_count": null,
      "metadata": {
        "id": "FwlX-Oyk1Xgf"
      },
      "outputs": [],
      "source": []
    },
    {
      "cell_type": "markdown",
      "metadata": {
        "id": "2wVukH271YFI"
      },
      "source": [
        "グループ別に色を分けるには、hueオプションを利用する"
      ]
    },
    {
      "cell_type": "code",
      "execution_count": null,
      "metadata": {
        "colab": {
          "base_uri": "https://localhost:8080/",
          "height": 302
        },
        "id": "kZIiu0-z1ZHA",
        "outputId": "38d897c7-5bac-4b9b-d9b7-cbe88408e7d0",
        "trusted": true
      },
      "outputs": [],
      "source": [
        "sns.scatterplot(data = data, x = \"Confirmed\", y = \"GDP\", style = \"Continent\")"
      ]
    },
    {
      "cell_type": "code",
      "execution_count": null,
      "metadata": {
        "id": "ZRkd-vyB1aM8"
      },
      "outputs": [],
      "source": []
    },
    {
      "cell_type": "markdown",
      "metadata": {
        "id": "ThGQ5mBv1awZ"
      },
      "source": [
        "\n",
        "グループ別に点の形を変えるには、styleオプションを利用する"
      ]
    },
    {
      "cell_type": "markdown",
      "metadata": {
        "id": "PWFeVf9H1cLE"
      },
      "source": [
        "## 0-2 プロットの設定"
      ]
    },
    {
      "cell_type": "code",
      "execution_count": null,
      "metadata": {
        "colab": {
          "base_uri": "https://localhost:8080/",
          "height": 318
        },
        "id": "ZNy7wvR-1jWQ",
        "outputId": "506eae30-47ec-4033-da02-a716396e3a68",
        "trusted": true
      },
      "outputs": [],
      "source": [
        "sns.scatterplot(data = data, x = \"Confirmed\", y = \"GDP\")\n",
        "plt.title(\"Scatterplot\")\n",
        "plt.xlabel(\"Confirmed COVID\")\n",
        "plt.ylabel(\"GDP per capita\")"
      ]
    },
    {
      "cell_type": "code",
      "execution_count": null,
      "metadata": {
        "id": "LuLfkFFU1klj"
      },
      "outputs": [],
      "source": []
    },
    {
      "cell_type": "markdown",
      "metadata": {
        "id": "of_pFWRZ1lW7"
      },
      "source": [
        "- plt.title()でタイトルの設定\n",
        "- plt.ylabel()で縦軸のラベル設定\n",
        "- plt.xlabel()で横軸のラベル設定\n",
        "\n",
        "注意：日本語を対応させるにはものすごくややこしい作業が必要なので、英語だけ使う"
      ]
    },
    {
      "cell_type": "markdown",
      "metadata": {
        "id": "o8LGLdKh1oXw"
      },
      "source": [
        "## 1. 学校の散布図"
      ]
    },
    {
      "cell_type": "code",
      "execution_count": null,
      "metadata": {
        "colab": {
          "base_uri": "https://localhost:8080/",
          "height": 204
        },
        "id": "iaKIo1gO1qOG",
        "outputId": "9a6ef244-f2ba-47da-a7fd-d18688610051",
        "trusted": true
      },
      "outputs": [],
      "source": [
        "data = pd.read_csv(pyodide.http.open_url(\"https://raw.githubusercontent.com/ChungWookyung/kg-jupyterlite-data-analysis/main/content/DATA/mhigh.csv\"))\n",
        "data.head()"
      ]
    },
    {
      "cell_type": "markdown",
      "metadata": {
        "id": "v0YWWlqP1u9J"
      },
      "source": [
        "データを読み込んできた。"
      ]
    },
    {
      "cell_type": "code",
      "execution_count": null,
      "metadata": {
        "colab": {
          "base_uri": "https://localhost:8080/",
          "height": 204
        },
        "id": "7o7HZGaR1ssx",
        "outputId": "6baa714a-658d-470c-8f04-e981475529d4",
        "trusted": true
      },
      "outputs": [],
      "source": [
        "data.columns = [\"name\",\"katakana\",\"sex\",\"grade\",\"japanese\",\"math\",\"sum\",\"height\",\"weight\",\"class\"]\n",
        "data[\"sex\"] = data[\"sex\"].replace({\"男\":\"Male\",\"女\":\"Female\"})\n",
        "data.head()"
      ]
    },
    {
      "cell_type": "markdown",
      "metadata": {
        "id": "DWRyfDcF1ylI"
      },
      "source": [
        "Seabornで日本語を使えないため、全部英語の表記に変えた\n",
        "- sex: 性別の英語表記(Female:女、Male:男)\n",
        "- grade: 学年の英語表記\n",
        "- japanese: 国語の成績\n",
        "- math: 数学の成績\n",
        "- sum：　成績の合計\n",
        "- height: 身長の英語表記\n",
        "- weight: 体重の英語表記\n",
        "- class: クラス"
      ]
    },
    {
      "cell_type": "code",
      "execution_count": null,
      "metadata": {
        "colab": {
          "base_uri": "https://localhost:8080/",
          "height": 302
        },
        "id": "FZAp5qwc1wdv",
        "outputId": "b12f07ca-ad77-4451-fb69-dd2543e5e38c",
        "trusted": true
      },
      "outputs": [],
      "source": [
        "sns.scatterplot(data = data, x = \"weight\", y = \"height\")"
      ]
    },
    {
      "cell_type": "code",
      "execution_count": null,
      "metadata": {
        "id": "kWfFANM610K4"
      },
      "outputs": [],
      "source": []
    },
    {
      "cell_type": "markdown",
      "metadata": {
        "id": "x64p-cIZ11_s"
      },
      "source": [
        "身長と体重の散布図が完成した"
      ]
    },
    {
      "cell_type": "code",
      "execution_count": null,
      "metadata": {
        "colab": {
          "base_uri": "https://localhost:8080/",
          "height": 302
        },
        "id": "Y2MdvEQF13HU",
        "outputId": "c569188e-dae0-4c92-cfab-f479352a4ab0",
        "trusted": true
      },
      "outputs": [],
      "source": [
        "sns.scatterplot(data = data, x = \"weight\", y = \"height\", hue = \"sex\")"
      ]
    },
    {
      "cell_type": "code",
      "execution_count": null,
      "metadata": {
        "id": "aFZbrFYj14Ao"
      },
      "outputs": [],
      "source": []
    },
    {
      "cell_type": "markdown",
      "metadata": {
        "id": "hc-Bw-7W14oJ"
      },
      "source": [
        "学年別に模様も違うものにする"
      ]
    },
    {
      "cell_type": "code",
      "execution_count": null,
      "metadata": {
        "colab": {
          "base_uri": "https://localhost:8080/",
          "height": 302
        },
        "id": "aXVVoi7D16Vs",
        "outputId": "52a73ce7-fe87-481a-c7e8-3148d2b076a0",
        "trusted": true
      },
      "outputs": [],
      "source": [
        "sns.scatterplot(data = data, x = \"math\", y = \"japanese\")"
      ]
    },
    {
      "cell_type": "code",
      "execution_count": null,
      "metadata": {
        "id": "QBCfF_8d18AA"
      },
      "outputs": [],
      "source": []
    },
    {
      "cell_type": "markdown",
      "metadata": {
        "id": "znvyNBZI18tQ"
      },
      "source": [
        "今回は成績の散布図を描いてみる"
      ]
    },
    {
      "cell_type": "code",
      "execution_count": null,
      "metadata": {
        "colab": {
          "base_uri": "https://localhost:8080/",
          "height": 302
        },
        "id": "15HZYhDT193x",
        "outputId": "0cb221fc-d37b-463a-bab1-cd89f77eb123",
        "trusted": true
      },
      "outputs": [],
      "source": [
        "sns.scatterplot(data = data, x = \"math\", y = \"japanese\", hue = \"grade\")"
      ]
    },
    {
      "cell_type": "code",
      "execution_count": null,
      "metadata": {
        "id": "_EYsszl81_Gq"
      },
      "outputs": [],
      "source": []
    },
    {
      "cell_type": "markdown",
      "metadata": {
        "id": "e59rvBRK1_p6"
      },
      "source": [
        "学年で色をつけてみても、学年別の成績の差はないように見える"
      ]
    },
    {
      "cell_type": "code",
      "execution_count": null,
      "metadata": {
        "colab": {
          "base_uri": "https://localhost:8080/",
          "height": 302
        },
        "id": "aFESd9BX2A4M",
        "outputId": "3a05cd1b-ac74-4b5c-f53f-3573a8067040",
        "trusted": true
      },
      "outputs": [],
      "source": [
        "sns.scatterplot(data = data, x = \"math\", y = \"japanese\", hue = \"class\")"
      ]
    },
    {
      "cell_type": "code",
      "execution_count": null,
      "metadata": {
        "id": "wBhAYmVb2Bxi"
      },
      "outputs": [],
      "source": []
    },
    {
      "cell_type": "markdown",
      "metadata": {
        "id": "2a7SUUge2CaM"
      },
      "source": [
        "点の模様を学年別に変えて、散布図を完成しよう"
      ]
    },
    {
      "cell_type": "markdown",
      "metadata": {
        "id": "VNR9Vlup2D3l"
      },
      "source": [
        "## 2. あやめの散布図"
      ]
    },
    {
      "cell_type": "code",
      "execution_count": null,
      "metadata": {
        "colab": {
          "base_uri": "https://localhost:8080/",
          "height": 204
        },
        "id": "q4t1-Rrw2DQo",
        "outputId": "1a1677fa-02ae-472a-da01-45edec197619",
        "trusted": true
      },
      "outputs": [],
      "source": [
        "data = pd.read_csv(pyodide.http.open_url(\"https://raw.githubusercontent.com/ChungWookyung/kg-jupyterlite-data-analysis/main/content/DATA/iris.csv\"))\n",
        "data.head()"
      ]
    },
    {
      "cell_type": "markdown",
      "metadata": {
        "id": "YtQncvaL2J5W"
      },
      "source": [
        "irisデータセットは、あやめの種類に関するデータである\n",
        "- sepal.length: 花のがく片の長さ\n",
        "- sepal.width: 花のがく片の幅\n",
        "- petal.length: 花びらの長さ\n",
        "- petal.width: 花びらの幅\n",
        "- variety: 花の種類の名前"
      ]
    },
    {
      "cell_type": "code",
      "execution_count": null,
      "metadata": {
        "colab": {
          "base_uri": "https://localhost:8080/",
          "height": 304
        },
        "id": "fr5ynNe42Hmb",
        "outputId": "daf07bb4-2351-4e85-caf6-61842df3ef02",
        "trusted": true
      },
      "outputs": [],
      "source": [
        "sns.scatterplot(data = data, x = \"sepal.length\", y = \"sepal.width\")"
      ]
    },
    {
      "cell_type": "code",
      "execution_count": null,
      "metadata": {
        "id": "dkikT2zv2LoE"
      },
      "outputs": [],
      "source": []
    },
    {
      "cell_type": "markdown",
      "metadata": {
        "id": "3keZSpzP2NDF"
      },
      "source": [
        "花のがく片の散布図である"
      ]
    },
    {
      "cell_type": "code",
      "execution_count": null,
      "metadata": {
        "colab": {
          "base_uri": "https://localhost:8080/",
          "height": 304
        },
        "id": "gK4yQqIk2N4v",
        "outputId": "8f5cde62-117c-4284-b6ef-c6db3be0544e",
        "trusted": true
      },
      "outputs": [],
      "source": [
        "sns.scatterplot(data = data, x = \"sepal.length\", y = \"sepal.width\", hue = \"variety\")"
      ]
    },
    {
      "cell_type": "code",
      "execution_count": null,
      "metadata": {
        "id": "gX-DTGI42O-W"
      },
      "outputs": [],
      "source": []
    },
    {
      "cell_type": "markdown",
      "metadata": {
        "id": "IGjiE08H2QYf"
      },
      "source": [
        "花びらの長さと幅の散布図である"
      ]
    },
    {
      "cell_type": "code",
      "execution_count": null,
      "metadata": {
        "colab": {
          "base_uri": "https://localhost:8080/",
          "height": 302
        },
        "id": "tj6wxtfm2Qs0",
        "outputId": "d717d3a1-0f63-4ab6-813e-1be85ff4efbd",
        "trusted": true
      },
      "outputs": [],
      "source": [
        "sns.scatterplot(data = data, x = \"petal.length\", y = \"petal.width\", hue = \"variety\")"
      ]
    },
    {
      "cell_type": "code",
      "execution_count": null,
      "metadata": {
        "id": "1SHOMkWI2Rua"
      },
      "outputs": [],
      "source": []
    },
    {
      "cell_type": "markdown",
      "metadata": {
        "id": "h9eP-3tg2SUI"
      },
      "source": [
        "こちらも種類別に色をつけるとはっきりわかる"
      ]
    },
    {
      "cell_type": "code",
      "execution_count": null,
      "metadata": {
        "colab": {
          "base_uri": "https://localhost:8080/",
          "height": 302
        },
        "id": "qiwl8KTf2TbZ",
        "outputId": "5b56043c-d9ce-428e-a3cd-d6cc8ae8a7a4",
        "trusted": true
      },
      "outputs": [],
      "source": [
        "sns.scatterplot(data = data, x = \"petal.length\", y = \"petal.width\", hue = \"sepal.length\")"
      ]
    },
    {
      "cell_type": "code",
      "execution_count": null,
      "metadata": {
        "id": "FgC3NQY42UdT"
      },
      "outputs": [],
      "source": []
    },
    {
      "cell_type": "markdown",
      "metadata": {
        "id": "HAUzTCje2WaR"
      },
      "source": [
        "花のがく片の長さで色付けることで、萼片の長さと花びらの大きさが正の相関を持つことがわかる"
      ]
    },
    {
      "cell_type": "markdown",
      "metadata": {
        "id": "aqSAj0ep2XTz"
      },
      "source": [
        "## 3. 幸せの散布図"
      ]
    },
    {
      "cell_type": "code",
      "execution_count": null,
      "metadata": {
        "colab": {
          "base_uri": "https://localhost:8080/",
          "height": 204
        },
        "id": "B3yKWtj02WzD",
        "outputId": "eabeaf80-10fa-4189-a419-7cd0ec186c48",
        "trusted": true
      },
      "outputs": [],
      "source": [
        "data = pd.read_csv(pyodide.http.open_url(\"https://raw.githubusercontent.com/ChungWookyung/kg-jupyterlite-data-analysis/main/content/DATA/happy.csv\"))\n",
        "data.head()"
      ]
    },
    {
      "cell_type": "markdown",
      "metadata": {
        "id": "z534n9Qj2dmd"
      },
      "source": [
        "幸せに関するデータを読み込んだ\n",
        "- Country: 国名\n",
        "- Region: 地域\n",
        "- Happiness Rank: 幸せランキング\n",
        "- Happiness Score: 幸せスコア\n",
        "- Economy (GDP per Capita): 経済水準(一人当たりGDPで測った)\n",
        "- Family: 社会福祉\n",
        "- Health (Life Expectancy): 期待寿命\n",
        "- Freedom: 人生の選択における自由度\n",
        "- Trust (Government Corruption): 政府の透明性\n",
        "- Generosity: 社会の寛容度\n",
        "- year: 年(ここでは2015しかない)"
      ]
    },
    {
      "cell_type": "code",
      "execution_count": null,
      "metadata": {
        "colab": {
          "base_uri": "https://localhost:8080/",
          "height": 302
        },
        "id": "Ha90Xlo-2bgT",
        "outputId": "d059b66c-2a1b-4b54-d3cb-81143ce50021",
        "trusted": true
      },
      "outputs": [],
      "source": [
        "sns.scatterplot(data = data, x = \"Economy (GDP per Capita)\", y = \"Happiness Score\")"
      ]
    },
    {
      "cell_type": "code",
      "execution_count": null,
      "metadata": {
        "id": "j_qTapva2fQ0"
      },
      "outputs": [],
      "source": []
    },
    {
      "cell_type": "markdown",
      "metadata": {
        "id": "TsWi3_8v2gOa"
      },
      "source": [
        "経済と幸せの相関が強いことが分かる"
      ]
    },
    {
      "cell_type": "code",
      "execution_count": null,
      "metadata": {
        "colab": {
          "base_uri": "https://localhost:8080/",
          "height": 302
        },
        "id": "-5pM2HQS2hUm",
        "outputId": "f119c8fc-0991-4321-f2f7-757cab2863b5",
        "trusted": true
      },
      "outputs": [],
      "source": [
        "ax = sns.scatterplot(data = data, x = \"Economy (GDP per Capita)\", y = \"Happiness Score\", hue = \"Region\")\n",
        "ax.legend(loc='center left', bbox_to_anchor=(1.02, 0.5), ncol=1)"
      ]
    },
    {
      "cell_type": "code",
      "execution_count": null,
      "metadata": {
        "id": "wkFy1ZpU2iVS"
      },
      "outputs": [],
      "source": []
    },
    {
      "cell_type": "markdown",
      "metadata": {
        "id": "6JwgJaDE2jN9"
      },
      "source": [
        "地域ごとに色づけてみると、このようになる　(2行目のコードはコピペで構わない)"
      ]
    },
    {
      "cell_type": "code",
      "execution_count": null,
      "metadata": {
        "colab": {
          "base_uri": "https://localhost:8080/",
          "height": 302
        },
        "id": "392V3JdA2kcL",
        "outputId": "db10bcab-5636-4292-80c8-019c64d377f4",
        "trusted": true
      },
      "outputs": [],
      "source": [
        "sns.scatterplot(data = data, x = \"Trust (Government Corruption)\", y = \"Happiness Score\")"
      ]
    },
    {
      "cell_type": "code",
      "execution_count": null,
      "metadata": {
        "id": "X8-2huye2mfY"
      },
      "outputs": [],
      "source": []
    },
    {
      "cell_type": "markdown",
      "metadata": {
        "id": "MDLpGEzW2nQK"
      },
      "source": [
        "経済とは違って、政府の透明性はあまり幸せと相関がないように見える"
      ]
    },
    {
      "cell_type": "code",
      "execution_count": null,
      "metadata": {
        "colab": {
          "base_uri": "https://localhost:8080/",
          "height": 204
        },
        "id": "SoRwjLgW2oa1",
        "outputId": "8ed8b289-04ba-4cfb-a886-98742c7d44e0",
        "trusted": true
      },
      "outputs": [],
      "source": [
        "data2 = data.melt(id_vars = [\"Country\",\"Region\",\"Happiness Score\"], value_vars = data.columns[4:9].to_list())\n",
        "data2.head()"
      ]
    },
    {
      "cell_type": "markdown",
      "metadata": {
        "id": "koQH-E092rA5"
      },
      "source": [
        "いちいち描くとキリがないので、データを描きやすい形にする"
      ]
    },
    {
      "cell_type": "code",
      "execution_count": null,
      "metadata": {
        "colab": {
          "base_uri": "https://localhost:8080/",
          "height": 346
        },
        "id": "kh-Tn85C2phE",
        "outputId": "f6b275cf-57a2-4f96-b737-f9d589e6df13",
        "trusted": true
      },
      "outputs": [],
      "source": [
        "sns.relplot(data=data2, x=\"value\", y=\"Happiness Score\",col=\"variable\",hue=\"Region\",kind=\"scatter\")"
      ]
    },
    {
      "cell_type": "code",
      "execution_count": null,
      "metadata": {
        "id": "1i7sOnqP2s-H"
      },
      "outputs": [],
      "source": []
    },
    {
      "cell_type": "markdown",
      "metadata": {
        "id": "iV4BVEo22tsZ"
      },
      "source": [
        "このような図の描き方もある(seabornのreplot関数を利用)\n",
        "\n",
        "経済＞社会福祉＞期待寿命＞人生の自由度＞政府の透明性の順で幸せとの相関が弱くなっていくことがわかる"
      ]
    }
  ],
  "metadata": {
    "colab": {
      "collapsed_sections": [],
      "name": "DA04.ipynb",
      "provenance": []
    },
    "kernelspec": {
      "display_name": "Pyolite",
      "language": "python",
      "name": "python"
    },
    "language_info": {
      "codemirror_mode": {
        "name": "python",
        "version": 3
      },
      "file_extension": ".py",
      "mimetype": "text/x-python",
      "name": "python",
      "nbconvert_exporter": "python",
      "pygments_lexer": "ipython3",
      "version": "3.8"
    }
  },
  "nbformat": 4,
  "nbformat_minor": 4
}
