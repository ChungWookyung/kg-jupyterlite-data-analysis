{
  "cells": [
    {
      "cell_type": "markdown",
      "metadata": {
        "id": "9l0XoC2L-nzA"
      },
      "source": [
        "## 0 Seabornの準備"
      ]
    },
    {
      "cell_type": "code",
      "execution_count": null,
      "metadata": {
        "id": "Hca1Cq-F-Oxx",
        "trusted": true
      },
      "outputs": [],
      "source": [
        "import piplite\n",
        "import pyodide\n",
        "await piplite.install(\"seaborn\")\n",
        "\n",
        "import seaborn as sns\n",
        "import pandas as pd\n",
        "import numpy as np\n",
        "from matplotlib import pyplot as plt\n",
        "%matplotlib inline\n",
        "sns.set_theme(style=\"darkgrid\")"
      ]
    },
    {
      "cell_type": "markdown",
      "metadata": {
        "id": "yr-Tcn09-XiZ"
      },
      "source": [
        "## 1-1 groupby()"
      ]
    },
    {
      "cell_type": "code",
      "execution_count": null,
      "metadata": {
        "colab": {
          "base_uri": "https://localhost:8080/",
          "height": 206
        },
        "id": "5ZTznp4B-TaG",
        "outputId": "effff6bd-82ba-44fb-986b-0bf7972ed1a9",
        "trusted": true
      },
      "outputs": [],
      "source": [
        "data = pd.read_csv(pyodide.http.open_url(\"https://raw.githubusercontent.com/ChungWookyung/kg-jupyterlite-data-analysis/main/content/DATA/testdata.csv\"))\n",
        "data.head()"
      ]
    },
    {
      "cell_type": "markdown",
      "metadata": {
        "id": "hADdA_Y2_DFe"
      },
      "source": [
        "任意の属性をもつ擬似データを読み込んだ"
      ]
    },
    {
      "cell_type": "code",
      "execution_count": null,
      "metadata": {
        "colab": {
          "base_uri": "https://localhost:8080/",
          "height": 143
        },
        "id": "q1laoD1G_CPF",
        "outputId": "79e58c87-3202-41d9-a74d-9ab1e328a826",
        "trusted": true
      },
      "outputs": [],
      "source": [
        "data.groupby(\"B\")[[\"A\",\"C\",\"D\",\"F\"]].mean()"
      ]
    },
    {
      "cell_type": "code",
      "execution_count": null,
      "metadata": {
        "id": "M6x2nBSYJmFi"
      },
      "outputs": [],
      "source": []
    },
    {
      "cell_type": "markdown",
      "metadata": {
        "id": "zFEQJBhWJ89N"
      },
      "source": [
        "B列でグループを作ってグループ別平均を求めた"
      ]
    },
    {
      "cell_type": "code",
      "execution_count": null,
      "metadata": {
        "colab": {
          "base_uri": "https://localhost:8080/",
          "height": 175
        },
        "id": "GzEPvMFR-_qI",
        "outputId": "160979e5-9ef8-4d4d-de95-1d8efd543b45",
        "trusted": true
      },
      "outputs": [],
      "source": [
        "data.groupby(\"E\")[[\"A\",\"C\",\"D\",\"F\"]].mean()"
      ]
    },
    {
      "cell_type": "code",
      "execution_count": null,
      "metadata": {
        "id": "nfSBw_bwJn-n"
      },
      "outputs": [],
      "source": []
    },
    {
      "cell_type": "markdown",
      "metadata": {
        "id": "FlZrWXc6KC5u"
      },
      "source": [
        "E列でグループを作ってグループ別平均を求めた"
      ]
    },
    {
      "cell_type": "code",
      "execution_count": null,
      "metadata": {
        "colab": {
          "base_uri": "https://localhost:8080/",
          "height": 269
        },
        "id": "QmygF3p9AQQl",
        "outputId": "acfb0165-5c16-42e7-9655-6e492d5c26d2",
        "trusted": true
      },
      "outputs": [],
      "source": [
        "data.groupby([\"B\",\"E\"]).mean()"
      ]
    },
    {
      "cell_type": "code",
      "execution_count": null,
      "metadata": {
        "id": "ctaZKwfPJpWx"
      },
      "outputs": [],
      "source": []
    },
    {
      "cell_type": "markdown",
      "metadata": {
        "id": "srs9KRxNKHZG"
      },
      "source": [
        "BとE列を同時に使ったグループを作ってグループ別平均を求めた"
      ]
    },
    {
      "cell_type": "markdown",
      "metadata": {
        "id": "5gCLTo_UJt-W"
      },
      "source": [
        "## 1-2 各種統計量の計算"
      ]
    },
    {
      "cell_type": "code",
      "execution_count": null,
      "metadata": {
        "colab": {
          "base_uri": "https://localhost:8080/",
          "height": 269
        },
        "id": "a67MknonAGPB",
        "outputId": "a0453569-4b0e-449f-e6e1-443840e8ddf6",
        "trusted": true
      },
      "outputs": [],
      "source": [
        "data.groupby([\"B\",\"E\"]).var()"
      ]
    },
    {
      "cell_type": "code",
      "execution_count": null,
      "metadata": {
        "id": "nXMHJOsSJ4EJ"
      },
      "outputs": [],
      "source": []
    },
    {
      "cell_type": "markdown",
      "metadata": {
        "id": "E6_vJhrCKO_H"
      },
      "source": [
        "groupby().var()は分散を求める"
      ]
    },
    {
      "cell_type": "code",
      "execution_count": null,
      "metadata": {
        "colab": {
          "base_uri": "https://localhost:8080/",
          "height": 269
        },
        "id": "sIkYPzWTAdcV",
        "outputId": "747d16b0-03f7-4fee-8ed4-d38e0b798580",
        "trusted": true
      },
      "outputs": [],
      "source": [
        "data.groupby([\"B\",\"E\"]).count()"
      ]
    },
    {
      "cell_type": "code",
      "execution_count": null,
      "metadata": {
        "id": "SrSyQmwNJ5aA"
      },
      "outputs": [],
      "source": []
    },
    {
      "cell_type": "markdown",
      "metadata": {
        "id": "8IrswQv7KSba"
      },
      "source": [
        "groupby().count()は個数をカウントする"
      ]
    },
    {
      "cell_type": "code",
      "execution_count": null,
      "metadata": {
        "colab": {
          "base_uri": "https://localhost:8080/",
          "height": 269
        },
        "id": "ZD-0EYoMJbtx",
        "outputId": "92527b8d-58f0-43fd-ac28-7a3ea543df8c",
        "trusted": true
      },
      "outputs": [],
      "source": [
        "data.groupby([\"B\",\"E\"]).sum()"
      ]
    },
    {
      "cell_type": "code",
      "execution_count": null,
      "metadata": {
        "id": "yRe7q7j1JgDd"
      },
      "outputs": [],
      "source": []
    },
    {
      "cell_type": "markdown",
      "metadata": {
        "id": "4m-TxdaCKWmK"
      },
      "source": [
        "groupby().sum()は合計を求める"
      ]
    },
    {
      "cell_type": "markdown",
      "metadata": {
        "id": "TWD-_dHIKgg-"
      },
      "source": [
        "## 2-1 データをくっつけるとは？ concat()"
      ]
    },
    {
      "cell_type": "code",
      "execution_count": null,
      "metadata": {
        "id": "lgxvIP0JKaLf",
        "trusted": true
      },
      "outputs": [],
      "source": [
        "data = pd.read_csv(pyodide.http.open_url(\"https://raw.githubusercontent.com/ChungWookyung/kg-jupyterlite-data-analysis/main/content/DATA/testdata.csv\"))\n",
        "data1 = data.iloc[:5,:]\n",
        "data2 = data.iloc[5:,:]"
      ]
    },
    {
      "cell_type": "code",
      "execution_count": null,
      "metadata": {
        "colab": {
          "base_uri": "https://localhost:8080/",
          "height": 206
        },
        "id": "o5RLOEHUK-Kf",
        "outputId": "eecfb36d-7867-4327-aac0-d33f8651948f",
        "trusted": true
      },
      "outputs": [],
      "source": [
        "data1"
      ]
    },
    {
      "cell_type": "code",
      "execution_count": null,
      "metadata": {
        "colab": {
          "base_uri": "https://localhost:8080/",
          "height": 206
        },
        "id": "Ze8iXoT9LeIL",
        "outputId": "a4f3e9e2-558e-4633-d379-b2b3b1ef730d",
        "trusted": true
      },
      "outputs": [],
      "source": [
        "data2"
      ]
    },
    {
      "cell_type": "markdown",
      "metadata": {
        "id": "01tS_Q3ML5nm"
      },
      "source": [
        "ここに同じ列を持っているdata1とdata2がある"
      ]
    },
    {
      "cell_type": "code",
      "execution_count": null,
      "metadata": {
        "colab": {
          "base_uri": "https://localhost:8080/",
          "height": 363
        },
        "id": "GYgbjqnTLmDV",
        "outputId": "bb340282-3971-4559-936a-92851d8bc0d4",
        "trusted": true
      },
      "outputs": [],
      "source": [
        "pd.concat([data1,data2])"
      ]
    },
    {
      "cell_type": "code",
      "execution_count": null,
      "metadata": {
        "id": "r0qmbI9NLpLi"
      },
      "outputs": [],
      "source": []
    },
    {
      "cell_type": "markdown",
      "metadata": {
        "id": "eV2Kq9slLrAD"
      },
      "source": [
        "pd.concat()は同じ列を持ったデータ同士を列方向にくっつける"
      ]
    },
    {
      "cell_type": "markdown",
      "metadata": {
        "id": "bXg891kMPKLz"
      },
      "source": [
        "## 2-2 データをくっつけるとは？ merge()"
      ]
    },
    {
      "cell_type": "code",
      "execution_count": null,
      "metadata": {
        "id": "BHkDRcLaLydt",
        "trusted": true
      },
      "outputs": [],
      "source": [
        "data = pd.read_csv(pyodide.http.open_url(\"https://raw.githubusercontent.com/ChungWookyung/kg-jupyterlite-data-analysis/main/content/DATA/testdata.csv\"))\n",
        "data1 = data.iloc[:,[0,1,3]]\n",
        "data2 = data.iloc[:,[0,2,4,5]]"
      ]
    },
    {
      "cell_type": "code",
      "execution_count": null,
      "metadata": {
        "colab": {
          "base_uri": "https://localhost:8080/",
          "height": 206
        },
        "id": "eW0CMS5BOd_J",
        "outputId": "58eaf17a-d117-48f7-f215-07738ababce8",
        "trusted": true
      },
      "outputs": [],
      "source": [
        "data1.head()"
      ]
    },
    {
      "cell_type": "code",
      "execution_count": null,
      "metadata": {
        "colab": {
          "base_uri": "https://localhost:8080/",
          "height": 206
        },
        "id": "cAnJXIZROe9r",
        "outputId": "534e0837-483a-43cd-924e-fa43365c2916",
        "trusted": true
      },
      "outputs": [],
      "source": [
        "data2.head()"
      ]
    },
    {
      "cell_type": "markdown",
      "metadata": {
        "id": "BdqFFztsm4cc"
      },
      "source": [
        "data1とdata2を読み込んだ"
      ]
    },
    {
      "cell_type": "code",
      "execution_count": null,
      "metadata": {
        "colab": {
          "base_uri": "https://localhost:8080/",
          "height": 363
        },
        "id": "F3ir5xuKOkWp",
        "outputId": "b526275e-718c-4bb7-aa71-4723a841ca2c",
        "trusted": true
      },
      "outputs": [],
      "source": [
        "pd.merge(data1,data2,on=\"A\")"
      ]
    },
    {
      "cell_type": "code",
      "execution_count": null,
      "metadata": {
        "id": "_tYtZDBgOxQa"
      },
      "outputs": [],
      "source": []
    },
    {
      "cell_type": "markdown",
      "metadata": {
        "id": "DOopASxsO51z"
      },
      "source": [
        "pd.merge()はインデックスを指定して、列方向にデータをくっつける"
      ]
    },
    {
      "cell_type": "markdown",
      "metadata": {
        "id": "jrkzw2bkPXQx"
      },
      "source": [
        "## 3-1 pivot_table()の説明"
      ]
    },
    {
      "cell_type": "code",
      "execution_count": null,
      "metadata": {
        "colab": {
          "base_uri": "https://localhost:8080/",
          "height": 206
        },
        "id": "RtbfZFG_O-0w",
        "outputId": "6cbfeb9e-9b24-4114-bcb6-11ce294719c7",
        "trusted": true
      },
      "outputs": [],
      "source": [
        "data = pd.read_csv(pyodide.http.open_url(\"https://raw.githubusercontent.com/ChungWookyung/kg-jupyterlite-data-analysis/main/content/DATA/testdata.csv\"))\n",
        "data.head()"
      ]
    },
    {
      "cell_type": "markdown",
      "metadata": {
        "id": "RtRmD25fm01j"
      },
      "source": [
        "まずはデータを読み込む"
      ]
    },
    {
      "cell_type": "code",
      "execution_count": null,
      "metadata": {
        "colab": {
          "base_uri": "https://localhost:8080/",
          "height": 143
        },
        "id": "6_ymNJxYPfrA",
        "outputId": "12be5b6c-d3e1-4dd5-9fd2-f436c338dea3",
        "trusted": true
      },
      "outputs": [],
      "source": [
        "data.pivot_table(index=\"B\",columns=\"E\",values=\"C\")"
      ]
    },
    {
      "cell_type": "code",
      "execution_count": null,
      "metadata": {
        "id": "y7daHjm4Pyjc"
      },
      "outputs": [],
      "source": []
    },
    {
      "cell_type": "code",
      "execution_count": null,
      "metadata": {
        "colab": {
          "base_uri": "https://localhost:8080/",
          "height": 175
        },
        "id": "NOIIn-2PP_K-",
        "outputId": "261108fb-fcc7-4961-92ef-a4fbdd9d1e45",
        "trusted": true
      },
      "outputs": [],
      "source": [
        "data.pivot_table(index=\"E\",columns=\"B\",values=\"D\")"
      ]
    },
    {
      "cell_type": "code",
      "execution_count": null,
      "metadata": {
        "id": "TFGNbDO3QAbc"
      },
      "outputs": [],
      "source": []
    },
    {
      "cell_type": "code",
      "execution_count": null,
      "metadata": {
        "colab": {
          "base_uri": "https://localhost:8080/",
          "height": 143
        },
        "id": "R2xkvUVpQByj",
        "outputId": "ac26e193-c07c-473d-e5be-87bc3b59e01e",
        "trusted": true
      },
      "outputs": [],
      "source": [
        "data.pivot_table(index=\"B\",columns=\"E\",values=\"F\")"
      ]
    },
    {
      "cell_type": "code",
      "execution_count": null,
      "metadata": {
        "id": "DM2IiJTzQC1b"
      },
      "outputs": [],
      "source": []
    },
    {
      "cell_type": "markdown",
      "metadata": {
        "id": "sZdr_V4omv2P"
      },
      "source": [
        "## 3-2 melt()の説明"
      ]
    },
    {
      "cell_type": "code",
      "execution_count": null,
      "metadata": {
        "colab": {
          "base_uri": "https://localhost:8080/",
          "height": 677
        },
        "id": "TDi670Kjmyqp",
        "outputId": "17f21477-16b2-459b-ee27-27db36f94661",
        "trusted": true
      },
      "outputs": [],
      "source": [
        "data.melt(id_vars=\"A\",value_vars=[\"B\",\"E\"])"
      ]
    },
    {
      "cell_type": "code",
      "execution_count": null,
      "metadata": {
        "id": "xnXTjtyFnBjm"
      },
      "outputs": [],
      "source": []
    },
    {
      "cell_type": "code",
      "execution_count": null,
      "metadata": {
        "colab": {
          "base_uri": "https://localhost:8080/",
          "height": 990
        },
        "id": "2J_BlTPunmQv",
        "outputId": "5463851a-085e-4267-e416-afa78407de84",
        "trusted": true
      },
      "outputs": [],
      "source": [
        "data.melt(id_vars=\"A\",value_vars=[\"C\",\"D\",\"F\"])"
      ]
    },
    {
      "cell_type": "code",
      "execution_count": null,
      "metadata": {
        "id": "wDFSU0uwnmGy"
      },
      "outputs": [],
      "source": []
    },
    {
      "cell_type": "code",
      "execution_count": null,
      "metadata": {
        "colab": {
          "base_uri": "https://localhost:8080/",
          "height": 302
        },
        "id": "A4MzOKt7n4fR",
        "outputId": "a5ebffce-1e4a-47ac-9ce3-f286a4ed9cd0",
        "trusted": true
      },
      "outputs": [],
      "source": [
        "temp = data.melt(id_vars=\"A\",value_vars=[\"C\",\"D\",\"F\"])\n",
        "sns.scatterplot(data = temp, x =\"A\", y = \"value\", hue = \"variable\")"
      ]
    },
    {
      "cell_type": "markdown",
      "metadata": {
        "id": "Ed6cCLnPpWV-"
      },
      "source": [
        "## 4 学校データの加工と処理"
      ]
    },
    {
      "cell_type": "code",
      "execution_count": null,
      "metadata": {
        "id": "xSdSvUfwpV4M",
        "trusted": true
      },
      "outputs": [],
      "source": [
        "data = pd.read_csv(pyodide.http.open_url(\"https://raw.githubusercontent.com/ChungWookyung/kg-jupyterlite-data-analysis/main/content/DATA/mhigh.csv\"))\n",
        "data1 = data.iloc[:,[0,1,2,3,4,5,6]]\n",
        "data2 = data.iloc[:,[0,1,2,9,7,8]]"
      ]
    },
    {
      "cell_type": "code",
      "execution_count": null,
      "metadata": {
        "colab": {
          "base_uri": "https://localhost:8080/",
          "height": 206
        },
        "id": "PBmk1xf8pVoj",
        "outputId": "78daf852-ce1b-43af-9064-8df6093c539d",
        "trusted": true
      },
      "outputs": [],
      "source": [
        "data1.head()"
      ]
    },
    {
      "cell_type": "code",
      "execution_count": null,
      "metadata": {
        "colab": {
          "base_uri": "https://localhost:8080/",
          "height": 206
        },
        "id": "1AwzG1Kmp52a",
        "outputId": "178c7aba-15d0-4f9f-aa14-279302146a36",
        "trusted": true
      },
      "outputs": [],
      "source": [
        "data2.head()"
      ]
    },
    {
      "cell_type": "markdown",
      "metadata": {
        "id": "8ryq1vJip8aE"
      },
      "source": [
        "### 実習問題：data1とdata2を氏名をインデックスとしてくっつけてdataという名前をつけてください\n",
        "ヒント：pd.merge()"
      ]
    },
    {
      "cell_type": "code",
      "execution_count": null,
      "metadata": {
        "id": "xPgElTM1p6sT"
      },
      "outputs": [],
      "source": []
    },
    {
      "cell_type": "markdown",
      "metadata": {
        "id": "F_9XcfAxqOhB"
      },
      "source": [
        "### 実習問題： 上の問題で作ったdataで全体データから成績のクラス別平均を求めてください\n",
        "ヒント：groupby().mean()"
      ]
    },
    {
      "cell_type": "code",
      "execution_count": null,
      "metadata": {
        "id": "Ke6wjHZdqmOl"
      },
      "outputs": [],
      "source": []
    },
    {
      "cell_type": "markdown",
      "metadata": {
        "id": "AiIXAyA3qoJM"
      },
      "source": [
        "### 実習問題： dataを加工して、行はクラス、列は学年、値は成績合計のデータを作ってください\n",
        "ヒント：pivot_table()"
      ]
    },
    {
      "cell_type": "code",
      "execution_count": null,
      "metadata": {
        "id": "2w4qjzsKqnuz"
      },
      "outputs": [],
      "source": []
    },
    {
      "cell_type": "markdown",
      "metadata": {
        "id": "elFLdmRCr7Nt"
      },
      "source": [
        "## 5 CPSデータの加工と処理"
      ]
    },
    {
      "cell_type": "code",
      "execution_count": null,
      "metadata": {
        "id": "vT3K-CUgrfQb",
        "trusted": true
      },
      "outputs": [],
      "source": [
        "data = pd.read_csv(pyodide.http.open_url(\"https://raw.githubusercontent.com/ChungWookyung/kg-jupyterlite-data-analysis/main/content/DATA/CPS1988.csv\"))\n",
        "data1 = data.iloc[:14000,:]\n",
        "data2 = data.iloc[14000:,:]"
      ]
    },
    {
      "cell_type": "markdown",
      "metadata": {
        "id": "9lkX_gANsZCp"
      },
      "source": [
        "### 実習問題：data1とdata2は同じデータを0から14000人まで、14001人から28155人まで分けたものです。data1とdata2を合併して元のデータに戻し、dataという名前をつけてください\n",
        "ヒント：pd.concat()"
      ]
    },
    {
      "cell_type": "code",
      "execution_count": null,
      "metadata": {
        "id": "eDee-JuksHN_"
      },
      "outputs": [],
      "source": []
    },
    {
      "cell_type": "markdown",
      "metadata": {
        "id": "P7Q_KU5js8bP"
      },
      "source": [
        "### 実習問題：人種(ethnicity)と地域(region)別の賃金(wage)と経験年数(experience)の分散を求めてください\n",
        "ヒント：groupby().var()"
      ]
    },
    {
      "cell_type": "code",
      "execution_count": null,
      "metadata": {
        "id": "iheWHjdIs0RF"
      },
      "outputs": [],
      "source": []
    },
    {
      "cell_type": "markdown",
      "metadata": {
        "id": "ZYC9Zj7gtQAM"
      },
      "source": [
        "### 実習問題：dataを加工して、行は人種(ethnicity)、列は地域(region)、値は賃金のデータを作ってください\n",
        "ヒント：pivot_table()"
      ]
    },
    {
      "cell_type": "code",
      "execution_count": null,
      "metadata": {
        "id": "6n0HUycetzjw"
      },
      "outputs": [],
      "source": []
    }
  ],
  "metadata": {
    "colab": {
      "name": "DA06.ipynb",
      "provenance": []
    },
    "kernelspec": {
      "display_name": "Pyolite",
      "language": "python",
      "name": "python"
    },
    "language_info": {
      "codemirror_mode": {
        "name": "python",
        "version": 3
      },
      "file_extension": ".py",
      "mimetype": "text/x-python",
      "name": "python",
      "nbconvert_exporter": "python",
      "pygments_lexer": "ipython3",
      "version": "3.8"
    }
  },
  "nbformat": 4,
  "nbformat_minor": 4
}
