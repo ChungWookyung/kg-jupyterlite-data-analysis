{
  "cells": [
    {
      "cell_type": "code",
      "execution_count": null,
      "metadata": {
        "id": "v89eJLTZ_pOk",
        "trusted": true
      },
      "outputs": [],
      "source": [
        "import pandas as pd\n",
        "import piplite\n",
        "await piplite.install(\"seaborn\")\n",
        "import pyodide\n",
        "import seaborn as sns\n",
        "from matplotlib import pyplot as plt\n",
        "%matplotlib inline\n",
        "sns.set(rc={'figure.figsize':(11.7,8.27)})"
      ]
    },
    {
      "cell_type": "markdown",
      "metadata": {
        "id": "03OTnUG1DWNg"
      },
      "source": [
        "## 1 出生率のデータ"
      ]
    },
    {
      "cell_type": "code",
      "execution_count": null,
      "metadata": {
        "id": "RSLDBOUW_u4g",
        "trusted": true
      },
      "outputs": [],
      "source": [
        "data = pd.read_csv(pyodide.http.open_url(\"https://raw.githubusercontent.com/ChungWookyung/kg-jupyterlite-data-analysis/main/content/DATA/birth.csv\"))"
      ]
    },
    {
      "cell_type": "code",
      "execution_count": null,
      "metadata": {
        "colab": {
          "base_uri": "https://localhost:8080/",
          "height": 204
        },
        "id": "Fq2JZoONAO7n",
        "outputId": "2e1b624c-3ed7-4826-dd85-ea5a13737881",
        "trusted": true
      },
      "outputs": [],
      "source": [
        "data.head()"
      ]
    },
    {
      "cell_type": "code",
      "execution_count": null,
      "metadata": {
        "id": "vCWuwj7BAQUn"
      },
      "outputs": [],
      "source": []
    },
    {
      "cell_type": "markdown",
      "metadata": {
        "id": "xrEsoJcjblzm"
      },
      "source": [
        "日本の各県の出生率(千人あたり)データ"
      ]
    },
    {
      "cell_type": "code",
      "execution_count": null,
      "metadata": {
        "colab": {
          "base_uri": "https://localhost:8080/"
        },
        "id": "KUja0aKtD9AL",
        "outputId": "4f9b8a60-31f2-4bfb-b434-723f3249f825",
        "trusted": true
      },
      "outputs": [],
      "source": [
        "data[\"Date\"].unique()"
      ]
    },
    {
      "cell_type": "code",
      "execution_count": null,
      "metadata": {
        "id": "QQxbZ7g4D80j"
      },
      "outputs": [],
      "source": []
    },
    {
      "cell_type": "code",
      "execution_count": null,
      "metadata": {
        "colab": {
          "base_uri": "https://localhost:8080/",
          "height": 1000
        },
        "id": "2PXh7ODAASzg",
        "outputId": "365e6ca9-9da7-4213-be7e-0092a96fa37c",
        "trusted": true
      },
      "outputs": [],
      "source": [
        "data.groupby(\"Ken\").describe()[\"Birth\"]"
      ]
    },
    {
      "cell_type": "code",
      "execution_count": null,
      "metadata": {
        "id": "pprnzlTRA0mW"
      },
      "outputs": [],
      "source": []
    },
    {
      "cell_type": "code",
      "execution_count": null,
      "metadata": {
        "colab": {
          "base_uri": "https://localhost:8080/",
          "height": 204
        },
        "id": "e5zFVMtNA5Vh",
        "outputId": "d06edca4-7a98-4355-d9d1-5b760a837e4b",
        "trusted": true
      },
      "outputs": [],
      "source": [
        "tokyodata = data.loc[data[\"Ken\"] == \"tokyo\",:]\n",
        "tokyodata.head()"
      ]
    },
    {
      "cell_type": "code",
      "execution_count": null,
      "metadata": {
        "id": "JNfWEcdABMMo"
      },
      "outputs": [],
      "source": []
    },
    {
      "cell_type": "code",
      "execution_count": null,
      "metadata": {
        "colab": {
          "base_uri": "https://localhost:8080/",
          "height": 296
        },
        "id": "SQj-UfTuBM3R",
        "outputId": "0fd9d8d4-e4b4-42ee-f785-b558bed9f593",
        "trusted": true
      },
      "outputs": [],
      "source": [
        "sns.lineplot(data=tokyodata, x=\"Date\", y=\"Birth\")"
      ]
    },
    {
      "cell_type": "code",
      "execution_count": null,
      "metadata": {
        "id": "CafEditzBilc"
      },
      "outputs": [],
      "source": []
    },
    {
      "cell_type": "code",
      "execution_count": null,
      "metadata": {
        "colab": {
          "base_uri": "https://localhost:8080/",
          "height": 204
        },
        "id": "PW-_TGeRBj51",
        "outputId": "90a3d518-e571-418d-f674-db6f6cc18706",
        "trusted": true
      },
      "outputs": [],
      "source": [
        "kenlist = [\"osaka\",\"tokyo\",\"hokkaido\"]\n",
        "data2 = data.loc[data[\"Ken\"].isin(kenlist),:]\n",
        "data2.head()"
      ]
    },
    {
      "cell_type": "code",
      "execution_count": null,
      "metadata": {
        "id": "QrbxGUl4Bjse"
      },
      "outputs": [],
      "source": []
    },
    {
      "cell_type": "code",
      "execution_count": null,
      "metadata": {
        "colab": {
          "base_uri": "https://localhost:8080/",
          "height": 296
        },
        "id": "xq14lYKrBw-e",
        "outputId": "79386e0d-19a5-4754-d7d7-f75f18c14d0a",
        "trusted": true
      },
      "outputs": [],
      "source": [
        "sns.lineplot(data = data2, x=\"Date\", y=\"Birth\", hue=\"Ken\")"
      ]
    },
    {
      "cell_type": "code",
      "execution_count": null,
      "metadata": {
        "id": "yIVDtpveBwxS"
      },
      "outputs": [],
      "source": []
    },
    {
      "cell_type": "markdown",
      "metadata": {},
      "source": [
        "実習：群馬県とその周りの県に関して、出生率のグラフを描いてください"
      ]
    },
    {
      "cell_type": "code",
      "execution_count": null,
      "metadata": {},
      "outputs": [],
      "source": []
    },
    {
      "cell_type": "markdown",
      "metadata": {
        "id": "wJEJ0-nuDP13"
      },
      "source": [
        "## 2 空き家のデータ"
      ]
    },
    {
      "cell_type": "code",
      "execution_count": null,
      "metadata": {
        "id": "Ja7JbM9Y_6GV",
        "trusted": true
      },
      "outputs": [],
      "source": [
        "data = pd.read_csv(pyodide.http.open_url(\"https://raw.githubusercontent.com/ChungWookyung/kg-jupyterlite-data-analysis/main/content/DATA/akiya.csv\"))"
      ]
    },
    {
      "cell_type": "code",
      "execution_count": null,
      "metadata": {
        "colab": {
          "base_uri": "https://localhost:8080/",
          "height": 204
        },
        "id": "01A9D_oECsyO",
        "outputId": "3a3b646f-8d58-4e34-80c7-737d7023b4c5",
        "trusted": true
      },
      "outputs": [],
      "source": [
        "data.head()"
      ]
    },
    {
      "cell_type": "code",
      "execution_count": null,
      "metadata": {
        "id": "bFatvRLcDB6l"
      },
      "outputs": [],
      "source": []
    },
    {
      "cell_type": "code",
      "execution_count": null,
      "metadata": {
        "colab": {
          "base_uri": "https://localhost:8080/"
        },
        "id": "FOaONn_1D0NT",
        "outputId": "4ac69b25-2fc6-44ca-d97f-d310b16c8d0f",
        "trusted": true
      },
      "outputs": [],
      "source": [
        "data[\"Date\"].unique()"
      ]
    },
    {
      "cell_type": "code",
      "execution_count": null,
      "metadata": {
        "id": "hxBDnuoaD3_C"
      },
      "outputs": [],
      "source": []
    },
    {
      "cell_type": "code",
      "execution_count": null,
      "metadata": {
        "colab": {
          "base_uri": "https://localhost:8080/",
          "height": 1000
        },
        "id": "BF986JaaDBvY",
        "outputId": "a40643c8-2a4d-4799-dd84-824c8044e593",
        "trusted": true
      },
      "outputs": [],
      "source": [
        "data.groupby(\"Ken\").describe()[[\"Jyutaku\",\"Akiya\"]]"
      ]
    },
    {
      "cell_type": "code",
      "execution_count": null,
      "metadata": {
        "id": "UaX6ZdYBDMjo",
        "trusted": true
      },
      "outputs": [],
      "source": [
        "data2003 = data.loc[data[\"Date\"] == 2003,:]\n",
        "data2018 = data.loc[data[\"Date\"] == 2003,:]"
      ]
    },
    {
      "cell_type": "code",
      "execution_count": null,
      "metadata": {
        "id": "mszz4yedGeIy"
      },
      "outputs": [],
      "source": []
    },
    {
      "cell_type": "code",
      "execution_count": null,
      "metadata": {
        "colab": {
          "base_uri": "https://localhost:8080/",
          "height": 296
        },
        "id": "EamAYeE_DNSU",
        "outputId": "bbb9213e-12d9-4d40-bbdb-ed3c8cb16d3e",
        "trusted": true
      },
      "outputs": [],
      "source": [
        "sns.scatterplot(data = data2003, x =\"Jyutaku\", y = \"Akiya\")"
      ]
    },
    {
      "cell_type": "code",
      "execution_count": null,
      "metadata": {
        "id": "RDnMj5X7DNDQ"
      },
      "outputs": [],
      "source": []
    },
    {
      "cell_type": "code",
      "execution_count": null,
      "metadata": {
        "colab": {
          "base_uri": "https://localhost:8080/",
          "height": 296
        },
        "id": "rcWqLtysVTPY",
        "outputId": "7d05146b-3e39-4628-ff1c-5c4986844690",
        "trusted": true
      },
      "outputs": [],
      "source": [
        "sns.scatterplot(data = data2018, x =\"Jyutaku\", y = \"Akiya\")"
      ]
    },
    {
      "cell_type": "code",
      "execution_count": null,
      "metadata": {
        "id": "FVvYiN9xVZP2"
      },
      "outputs": [],
      "source": []
    },
    {
      "cell_type": "code",
      "execution_count": null,
      "metadata": {
        "colab": {
          "base_uri": "https://localhost:8080/",
          "height": 204
        },
        "id": "mqNTvVHLVaYy",
        "outputId": "350ae85a-d036-41a5-af39-f2a7b6e06bd5",
        "trusted": true
      },
      "outputs": [],
      "source": [
        "kenlist = [\"osaka\",\"tokyo\",\"hokkaido\"]\n",
        "data2 = data.loc[data[\"Ken\"].isin(kenlist),:]\n",
        "data2.head()"
      ]
    },
    {
      "cell_type": "code",
      "execution_count": null,
      "metadata": {
        "id": "Pu4mzsOsVaJ_"
      },
      "outputs": [],
      "source": []
    },
    {
      "cell_type": "code",
      "execution_count": null,
      "metadata": {
        "colab": {
          "base_uri": "https://localhost:8080/",
          "height": 307
        },
        "id": "x7A8WFHmV4PA",
        "outputId": "b334e44d-bcf9-4179-a195-4ba9dffb8598",
        "trusted": true
      },
      "outputs": [],
      "source": [
        "sns.lineplot(data = data2, x =\"Date\", y =\"Jyutaku\", hue = \"Ken\")"
      ]
    },
    {
      "cell_type": "code",
      "execution_count": null,
      "metadata": {
        "colab": {
          "base_uri": "https://localhost:8080/",
          "height": 296
        },
        "id": "dL2_6oC-WBpV",
        "outputId": "bfbe8570-0928-4fea-dbdd-ffb8767d2a92",
        "trusted": true
      },
      "outputs": [],
      "source": [
        "sns.lineplot(data = data2, x =\"Date\", y =\"Akiya\", hue = \"Ken\")"
      ]
    },
    {
      "cell_type": "code",
      "execution_count": null,
      "metadata": {
        "id": "2QBAIE5hWHoz"
      },
      "outputs": [],
      "source": []
    },
    {
      "cell_type": "markdown",
      "metadata": {},
      "source": [
        "実習：群馬県とその周りの県に関して、住宅と空き家の数のグラフを描いてください（折れ線グラフ）"
      ]
    },
    {
      "cell_type": "code",
      "execution_count": null,
      "metadata": {},
      "outputs": [],
      "source": []
    },
    {
      "cell_type": "markdown",
      "metadata": {
        "id": "6mqO231AWK0d"
      },
      "source": [
        "## 3 サービス売上"
      ]
    },
    {
      "cell_type": "code",
      "execution_count": null,
      "metadata": {
        "id": "gUMceaqS_55T",
        "trusted": true
      },
      "outputs": [],
      "source": [
        "data = pd.read_csv(pyodide.http.open_url(\"https://raw.githubusercontent.com/ChungWookyung/kg-jupyterlite-data-analysis/main/content/DATA/keizai.csv\"))"
      ]
    },
    {
      "cell_type": "code",
      "execution_count": null,
      "metadata": {
        "colab": {
          "base_uri": "https://localhost:8080/",
          "height": 204
        },
        "id": "X3ZT3U7WWI6x",
        "outputId": "d05873ab-9a88-4bde-d7d9-5e8f7e6a12c3",
        "trusted": true
      },
      "outputs": [],
      "source": [
        "data.head()"
      ]
    },
    {
      "cell_type": "code",
      "execution_count": null,
      "metadata": {
        "id": "iV-6m8DSWRK4"
      },
      "outputs": [],
      "source": []
    },
    {
      "cell_type": "markdown",
      "metadata": {
        "id": "kEbcFr1zbHJq"
      },
      "source": [
        "サービス産業の売上データ\n",
        "- Service: サービス産業全体\n",
        "- Logistic: 物流\n",
        "- House: 不動産\n",
        "- Tech: 技術\n",
        "- Food: 宿泊・飲食\n",
        "- Enter: 娯楽\n",
        "- Edu: 教育\n",
        "- Health: 医療"
      ]
    },
    {
      "cell_type": "code",
      "execution_count": null,
      "metadata": {
        "colab": {
          "base_uri": "https://localhost:8080/"
        },
        "id": "9DznFlb8Wcr-",
        "outputId": "e1cc94c4-0394-497a-c140-f6fe722bcdfe",
        "trusted": true
      },
      "outputs": [],
      "source": [
        "data[\"Date\"].unique()"
      ]
    },
    {
      "cell_type": "code",
      "execution_count": null,
      "metadata": {
        "id": "3x7i26wiWgLn"
      },
      "outputs": [],
      "source": []
    },
    {
      "cell_type": "code",
      "execution_count": null,
      "metadata": {
        "colab": {
          "base_uri": "https://localhost:8080/",
          "height": 1000
        },
        "id": "n64yHhFSWhTX",
        "outputId": "b677e10a-ceb0-4758-83ad-54cef781be4d",
        "trusted": true
      },
      "outputs": [],
      "source": [
        "data.groupby([\"Ken\"]).describe()[\"Service\"]"
      ]
    },
    {
      "cell_type": "code",
      "execution_count": null,
      "metadata": {
        "id": "xH1ctkNhW0JY"
      },
      "outputs": [],
      "source": []
    },
    {
      "cell_type": "code",
      "execution_count": null,
      "metadata": {
        "colab": {
          "base_uri": "https://localhost:8080/",
          "height": 204
        },
        "id": "88V-gt-SWRjS",
        "outputId": "732d8ef3-a33c-47bd-ba42-88221e55dda3",
        "trusted": true
      },
      "outputs": [],
      "source": [
        "data2017 = data.loc[data[\"Date\"]==2017,:]\n",
        "data2017.head()"
      ]
    },
    {
      "cell_type": "code",
      "execution_count": null,
      "metadata": {
        "id": "0poFjVXQXBfy"
      },
      "outputs": [],
      "source": []
    },
    {
      "cell_type": "code",
      "execution_count": null,
      "metadata": {
        "colab": {
          "base_uri": "https://localhost:8080/",
          "height": 534
        },
        "id": "NYx2c5Q7XB-X",
        "outputId": "d4acb161-d1de-4f5c-af88-ba70fc7838fa",
        "trusted": true
      },
      "outputs": [],
      "source": [
        "sns.barplot(data = data2017, y=\"Ken\", x=\"Service\")"
      ]
    },
    {
      "cell_type": "code",
      "execution_count": null,
      "metadata": {
        "id": "tweuZnpwXpeG"
      },
      "outputs": [],
      "source": []
    },
    {
      "cell_type": "code",
      "execution_count": null,
      "metadata": {
        "colab": {
          "base_uri": "https://localhost:8080/",
          "height": 534
        },
        "id": "KhXu-oajXs34",
        "outputId": "77e74bcf-a2ad-445e-b1dd-020b741e85f4",
        "trusted": true
      },
      "outputs": [],
      "source": [
        "sns.barplot(data = data2017, y=\"Ken\", x=\"Tech\")"
      ]
    },
    {
      "cell_type": "code",
      "execution_count": null,
      "metadata": {
        "colab": {
          "base_uri": "https://localhost:8080/"
        },
        "id": "12F5QdFfX8eD",
        "outputId": "c593e74b-e076-4a23-d20f-2a065b1c9a0b"
      },
      "outputs": [],
      "source": []
    },
    {
      "cell_type": "code",
      "execution_count": null,
      "metadata": {
        "colab": {
          "base_uri": "https://localhost:8080/",
          "height": 204
        },
        "id": "UG-sHehaX8_a",
        "outputId": "a8e99e1b-7697-4b28-f438-83a90e3f2955",
        "trusted": true
      },
      "outputs": [],
      "source": [
        "vlist = data.columns[3:]\n",
        "tokyodata = data.loc[data[\"Ken\"] == \"tokyo\",:]\n",
        "tokyodata = tokyodata.melt(id_vars=\"Date\",value_vars=vlist)\n",
        "tokyodata.head()"
      ]
    },
    {
      "cell_type": "code",
      "execution_count": null,
      "metadata": {
        "id": "pyvAiMxDarrE"
      },
      "outputs": [],
      "source": []
    },
    {
      "cell_type": "code",
      "execution_count": null,
      "metadata": {
        "colab": {
          "base_uri": "https://localhost:8080/",
          "height": 545
        },
        "id": "mfn5vQzzasO9",
        "outputId": "86c6e975-89fc-4adb-d5e6-fc526f3c616a",
        "trusted": true
      },
      "outputs": [],
      "source": [
        "sns.lineplot(data = tokyodata, x = \"Date\", y=\"value\", hue=\"variable\")"
      ]
    },
    {
      "cell_type": "code",
      "execution_count": null,
      "metadata": {
        "id": "Her8qqnGa9I_"
      },
      "outputs": [],
      "source": []
    },
    {
      "cell_type": "markdown",
      "metadata": {},
      "source": [
        "実習：群馬県とその周りの県に関して、サービス産業の推移のグラフを描いてください（折れ線グラフ）"
      ]
    },
    {
      "cell_type": "code",
      "execution_count": null,
      "metadata": {},
      "outputs": [],
      "source": []
    }
  ],
  "metadata": {
    "colab": {
      "name": "DA11.ipynb",
      "provenance": []
    },
    "kernelspec": {
      "display_name": "Pyolite",
      "language": "python",
      "name": "python"
    },
    "language_info": {
      "codemirror_mode": {
        "name": "python",
        "version": 3
      },
      "file_extension": ".py",
      "mimetype": "text/x-python",
      "name": "python",
      "nbconvert_exporter": "python",
      "pygments_lexer": "ipython3",
      "version": "3.8"
    }
  },
  "nbformat": 4,
  "nbformat_minor": 4
}
