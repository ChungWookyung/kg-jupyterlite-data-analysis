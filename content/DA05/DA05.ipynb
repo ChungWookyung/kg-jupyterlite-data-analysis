{
  "cells": [
    {
      "cell_type": "markdown",
      "metadata": {
        "id": "YtULhBO1lZGq"
      },
      "source": [
        "# 0-1 Seabornの導入"
      ]
    },
    {
      "cell_type": "code",
      "execution_count": null,
      "metadata": {
        "id": "BhlpHvkiiSyN",
        "trusted": true
      },
      "outputs": [],
      "source": [
        "import piplite\n",
        "import pyodide\n",
        "await piplite.install(\"seaborn\")\n",
        "\n",
        "import seaborn as sns\n",
        "import pandas as pd\n",
        "import numpy as np\n",
        "from matplotlib import pyplot as plt\n",
        "%matplotlib inline\n",
        "sns.set_theme(style=\"darkgrid\")"
      ]
    },
    {
      "cell_type": "markdown",
      "metadata": {
        "id": "LMZXNyyqicDe"
      },
      "source": [
        "最初の設定を回す"
      ]
    },
    {
      "cell_type": "code",
      "execution_count": null,
      "metadata": {
        "colab": {
          "base_uri": "https://localhost:8080/",
          "height": 206
        },
        "id": "CraJl2XbiZB4",
        "outputId": "32d275ab-c5c0-497c-e42e-a26a196022fd",
        "trusted": true
      },
      "outputs": [],
      "source": [
        "data = pd.read_csv(pyodide.http.open_url(\"https://raw.githubusercontent.com/ChungWookyung/kg-jupyterlite-data-analysis/main/content/DATA/flights.csv\"))\n",
        "data.head()"
      ]
    },
    {
      "cell_type": "markdown",
      "metadata": {
        "id": "0KCjmnTmilTz"
      },
      "source": [
        "折れ線グラフを描くためのサンプルデータを読み込んだ"
      ]
    },
    {
      "cell_type": "code",
      "execution_count": null,
      "metadata": {
        "colab": {
          "base_uri": "https://localhost:8080/",
          "height": 302
        },
        "id": "_s5VUk4SikTr",
        "outputId": "be23922f-eb3a-4f71-fb38-e3c1a7e059ac",
        "trusted": true
      },
      "outputs": [],
      "source": [
        "sns.lineplot(data = data, x = \"year\", y = \"passengers\")"
      ]
    },
    {
      "cell_type": "code",
      "execution_count": null,
      "metadata": {
        "id": "Ero1mx3Kj_47"
      },
      "outputs": [],
      "source": []
    },
    {
      "cell_type": "markdown",
      "metadata": {
        "id": "6xmOAEA-jbv9"
      },
      "source": [
        "Seabornで折れ線グラフを描くための関数は sns.lineplot である"
      ]
    },
    {
      "cell_type": "code",
      "execution_count": null,
      "metadata": {
        "colab": {
          "base_uri": "https://localhost:8080/",
          "height": 302
        },
        "id": "Kn3x682hkJg9",
        "outputId": "9ed4d0c4-bbbb-4232-f22b-9e0a1eae834b",
        "trusted": true
      },
      "outputs": [],
      "source": [
        "sns.lineplot(data = data, x = \"year\", y = \"passengers\", color = \"red\")"
      ]
    },
    {
      "cell_type": "code",
      "execution_count": null,
      "metadata": {
        "id": "eLyJvJRbkOT8"
      },
      "outputs": [],
      "source": []
    },
    {
      "cell_type": "markdown",
      "metadata": {
        "id": "OmLVU06ekPtx"
      },
      "source": [
        "今までの図と同じくcolorオプションで色を変えることができる"
      ]
    },
    {
      "cell_type": "code",
      "execution_count": null,
      "metadata": {
        "colab": {
          "base_uri": "https://localhost:8080/",
          "height": 302
        },
        "id": "EfZ0UF4JjKWU",
        "outputId": "33c6f32b-991c-4363-c1e2-ca6099f0e762",
        "trusted": true
      },
      "outputs": [],
      "source": [
        "sns.lineplot(data = data, x = \"year\", y = \"passengers\", hue = \"month\")"
      ]
    },
    {
      "cell_type": "code",
      "execution_count": null,
      "metadata": {
        "id": "3wa3oGwskAtb"
      },
      "outputs": [],
      "source": []
    },
    {
      "cell_type": "markdown",
      "metadata": {
        "id": "BRx6bGRRjzck"
      },
      "source": [
        "hueオプションは指定した列によって違う色の線を描くために用いられる"
      ]
    },
    {
      "cell_type": "code",
      "execution_count": null,
      "metadata": {
        "colab": {
          "base_uri": "https://localhost:8080/",
          "height": 302
        },
        "id": "9-ZZy9GCjpex",
        "outputId": "06298449-d882-417f-ca3e-9a85a2220eae",
        "trusted": true
      },
      "outputs": [],
      "source": [
        "ax = sns.lineplot(data = data, x = \"year\", y = \"passengers\")\n",
        "ax.axvspan(1952, 1956, alpha=0.5, color='grey')"
      ]
    },
    {
      "cell_type": "code",
      "execution_count": null,
      "metadata": {
        "id": "e7lN-bVPk2qG"
      },
      "outputs": [],
      "source": []
    },
    {
      "cell_type": "markdown",
      "metadata": {
        "id": "zIDDNlDSk-ji"
      },
      "source": [
        "折れ線グラフと共に、グラフの特定の期間に色を塗ることもおすすめである"
      ]
    },
    {
      "cell_type": "markdown",
      "metadata": {
        "id": "dfScoxnNlfv5"
      },
      "source": [
        "# 0-2 プロットの設定"
      ]
    },
    {
      "cell_type": "code",
      "execution_count": null,
      "metadata": {
        "colab": {
          "base_uri": "https://localhost:8080/",
          "height": 318
        },
        "id": "xUN79hedk8Mi",
        "outputId": "b4ebc56a-8c3d-42cd-a6a7-e82d364a1dce",
        "trusted": true
      },
      "outputs": [],
      "source": [
        "sns.lineplot(data = data, x = \"year\", y = \"passengers\")\n",
        "plt.title(\"Lineplot\")\n",
        "plt.xlabel(\"YEAR\")\n",
        "plt.ylabel(\"Kyaku\")"
      ]
    },
    {
      "cell_type": "code",
      "execution_count": null,
      "metadata": {
        "id": "RxypUanPlsXk"
      },
      "outputs": [],
      "source": []
    },
    {
      "cell_type": "markdown",
      "metadata": {
        "id": "1N3ltrPnlwz6"
      },
      "source": [
        "- plt.title()でタイトルの設定\n",
        "- plt.ylabel()で縦軸のラベル設定\n",
        "- plt.xlabel()で横軸のラベル設定\n",
        "\n",
        "注意：日本語を対応させるにはものすごくややこしい作業が必要なので、英語だけ使う"
      ]
    },
    {
      "cell_type": "markdown",
      "metadata": {
        "id": "KzVXYGwMl17K"
      },
      "source": [
        "# 1. 株価指数の折れ線グラフ"
      ]
    },
    {
      "cell_type": "code",
      "execution_count": null,
      "metadata": {
        "colab": {
          "base_uri": "https://localhost:8080/",
          "height": 206
        },
        "id": "7a9Nhoybl6PU",
        "outputId": "31767f7d-9647-413e-f6b0-c25762b0b4c5",
        "trusted": true
      },
      "outputs": [],
      "source": [
        "data = pd.read_csv(pyodide.http.open_url(\"https://raw.githubusercontent.com/ChungWookyung/kg-jupyterlite-data-analysis/main/content/DATA/index.csv\"))\n",
        "data[\"time\"] = pd.to_datetime(data[\"time\"])\n",
        "data.head()"
      ]
    },
    {
      "cell_type": "markdown",
      "metadata": {
        "id": "3XK5_s2dpVOh"
      },
      "source": [
        "- SPI : 米国S&P指数\n",
        "- KOSPI : 韓国KOSPI指数\n",
        "- STOXX : ヨーロッパSTOXX指数\n",
        "- NIKKEI : 日本日経225指数"
      ]
    },
    {
      "cell_type": "code",
      "execution_count": null,
      "metadata": {
        "colab": {
          "base_uri": "https://localhost:8080/",
          "height": 302
        },
        "id": "8Pbf5S-Gl_eE",
        "outputId": "4cdaf0b5-5558-46fa-ce6d-983c47cb552a",
        "trusted": true
      },
      "outputs": [],
      "source": [
        "sns.lineplot(data = data, x = \"time\", y = \"SPI\")"
      ]
    },
    {
      "cell_type": "code",
      "execution_count": null,
      "metadata": {
        "id": "gSYy8IuzmHHQ"
      },
      "outputs": [],
      "source": []
    },
    {
      "cell_type": "markdown",
      "metadata": {
        "id": "T1oSU5GwprB0"
      },
      "source": [
        "飛躍的に増加していることが分かる"
      ]
    },
    {
      "cell_type": "code",
      "execution_count": null,
      "metadata": {
        "colab": {
          "base_uri": "https://localhost:8080/",
          "height": 304
        },
        "id": "C_6yqeK8nWEj",
        "outputId": "1bc79108-d2c0-4c3f-dcce-2ca8daa3f6bb",
        "trusted": true
      },
      "outputs": [],
      "source": [
        "sns.lineplot(data = data, x = \"time\", y = \"STOXX\")"
      ]
    },
    {
      "cell_type": "code",
      "execution_count": null,
      "metadata": {
        "id": "aAA18ot8pzdn"
      },
      "outputs": [],
      "source": []
    },
    {
      "cell_type": "markdown",
      "metadata": {
        "id": "QjYMR2dMp03n"
      },
      "source": [
        "好きな指数一つを描いてみよう"
      ]
    },
    {
      "cell_type": "code",
      "execution_count": null,
      "metadata": {
        "colab": {
          "base_uri": "https://localhost:8080/",
          "height": 206
        },
        "id": "IOsRleXGp3P4",
        "outputId": "e39ea1a7-75e0-48a2-c362-4e2d65dc3124",
        "trusted": true
      },
      "outputs": [],
      "source": [
        "data2 = data.melt(id_vars=\"time\", value_vars=data.columns[1:])\n",
        "data2.head()"
      ]
    },
    {
      "cell_type": "code",
      "execution_count": null,
      "metadata": {
        "colab": {
          "base_uri": "https://localhost:8080/",
          "height": 302
        },
        "id": "g0H_kcwEqZvc",
        "outputId": "b624de59-0ede-4bd6-8ab2-ce29eaf64bf3",
        "trusted": true
      },
      "outputs": [],
      "source": [
        "sns.lineplot(data = data2, x = \"time\", y = \"value\", hue = \"variable\")"
      ]
    },
    {
      "cell_type": "code",
      "execution_count": null,
      "metadata": {
        "id": "nocBH7LXqnyo"
      },
      "outputs": [],
      "source": []
    },
    {
      "cell_type": "markdown",
      "metadata": {
        "id": "tuPPMUjbqu6t"
      },
      "source": [
        "同時に描くと比較できないことがわかった。"
      ]
    },
    {
      "cell_type": "code",
      "execution_count": null,
      "metadata": {
        "colab": {
          "base_uri": "https://localhost:8080/",
          "height": 206
        },
        "id": "_h51ytNUquXa",
        "outputId": "dd35c32c-3b71-4274-890e-ea9146605221",
        "trusted": true
      },
      "outputs": [],
      "source": [
        "data3 = data2.copy(deep=True)\n",
        "data3[\"value\"] = np.log1p(data2.value.pct_change())\n",
        "data3 = data3[data3[\"time\"] >= \"2010-01-01\"]\n",
        "data3.head()"
      ]
    },
    {
      "cell_type": "code",
      "execution_count": null,
      "metadata": {
        "colab": {
          "base_uri": "https://localhost:8080/",
          "height": 302
        },
        "id": "MdO3O1GUrM6Z",
        "outputId": "00be483e-6315-41d5-d8b0-2e0ffd511f58",
        "trusted": true
      },
      "outputs": [],
      "source": [
        "sns.lineplot(data = data3, x = \"time\", y = \"value\", hue = \"variable\")"
      ]
    },
    {
      "cell_type": "code",
      "execution_count": null,
      "metadata": {
        "id": "HWWkbGyfrq-W"
      },
      "outputs": [],
      "source": []
    },
    {
      "cell_type": "markdown",
      "metadata": {
        "id": "71R2phOgsEDy"
      },
      "source": [
        "対数差分で見ると、大体同じくらいの動きをしていることがわかる"
      ]
    },
    {
      "cell_type": "code",
      "execution_count": null,
      "metadata": {
        "colab": {
          "base_uri": "https://localhost:8080/",
          "height": 303
        },
        "id": "I1-dWAoLsL33",
        "outputId": "57de9147-d497-4477-d068-8f2222d1058c",
        "trusted": true
      },
      "outputs": [],
      "source": [
        "ax = sns.lineplot(data = data, x = \"time\", y = \"NIKKEI\")\n",
        "ax.axvspan(pd.to_datetime(\"1990\"), pd.to_datetime(\"2020\"), alpha=0.5, color='grey')"
      ]
    },
    {
      "cell_type": "code",
      "execution_count": null,
      "metadata": {
        "id": "syknvxiEsXkt"
      },
      "outputs": [],
      "source": []
    },
    {
      "cell_type": "markdown",
      "metadata": {
        "id": "45MewhWJs1BO"
      },
      "source": [
        "失われた30年をグレーに塗ってみた"
      ]
    },
    {
      "cell_type": "markdown",
      "metadata": {
        "id": "N7dv45ARtKzp"
      },
      "source": [
        "# 2. 国データの折れ線グラフ"
      ]
    },
    {
      "cell_type": "code",
      "execution_count": null,
      "metadata": {
        "colab": {
          "base_uri": "https://localhost:8080/",
          "height": 334
        },
        "id": "09SJRa3utJVi",
        "outputId": "d3caab4e-dc2f-4db6-f31a-0b63b7e6b00d",
        "trusted": true
      },
      "outputs": [],
      "source": [
        "gdp = pd.read_csv(pyodide.http.open_url(\"https://raw.githubusercontent.com/ChungWookyung/kg-jupyterlite-data-analysis/main/content/DATA/gdp_per_capita90to20.csv\"))\n",
        "pop = pd.read_csv(pyodide.http.open_url(\"https://raw.githubusercontent.com/ChungWookyung/kg-jupyterlite-data-analysis/main/content/DATA/population90to20.csv\"))\n",
        "gdp.head()"
      ]
    },
    {
      "cell_type": "markdown",
      "metadata": {
        "id": "Zt0Ubm1bvB0j"
      },
      "source": [
        "ドル単位の一人当たりGDPデータと人口データを読み込んだ(1990-2020)"
      ]
    },
    {
      "cell_type": "code",
      "execution_count": null,
      "metadata": {
        "colab": {
          "base_uri": "https://localhost:8080/",
          "height": 302
        },
        "id": "k_HqIr5yux-o",
        "outputId": "6f172713-c14a-419d-f039-32ae870fbb6c",
        "trusted": true
      },
      "outputs": [],
      "source": [
        "sns.lineplot(data = gdp, x = \"time\", y = \"Japan\")"
      ]
    },
    {
      "cell_type": "code",
      "execution_count": null,
      "metadata": {
        "id": "xWhXHHawu-bz"
      },
      "outputs": [],
      "source": []
    },
    {
      "cell_type": "markdown",
      "metadata": {
        "id": "2AIs9eZ_vU3z"
      },
      "source": [
        "日本のGDPを描いてみた"
      ]
    },
    {
      "cell_type": "code",
      "execution_count": null,
      "metadata": {
        "colab": {
          "base_uri": "https://localhost:8080/",
          "height": 206
        },
        "id": "xc7UblB1vTXJ",
        "outputId": "dddbaa55-feb6-48bf-c1e3-c3e27cae3395",
        "trusted": true
      },
      "outputs": [],
      "source": [
        "gdp2 = gdp.loc[:,[\"time\", \"Japan\",\"United States\", \"South Korea\", \"Vietnam\", \"China\"]].melt(id_vars=\"time\",value_vars=[\"Japan\",\"United States\", \"South Korea\", \"Vietnam\", \"China\"])\n",
        "gdp2.head()"
      ]
    },
    {
      "cell_type": "code",
      "execution_count": null,
      "metadata": {
        "colab": {
          "base_uri": "https://localhost:8080/",
          "height": 302
        },
        "id": "SKHYXfAtvrXE",
        "outputId": "986b9550-e3fe-45e8-d35f-8088e11a4ec0",
        "trusted": true
      },
      "outputs": [],
      "source": [
        "sns.lineplot(data = gdp2, x = \"time\", y = \"value\", hue=\"variable\")"
      ]
    },
    {
      "cell_type": "code",
      "execution_count": null,
      "metadata": {
        "id": "r4sUeMlJwGzN"
      },
      "outputs": [],
      "source": []
    },
    {
      "cell_type": "markdown",
      "metadata": {
        "id": "BfKU5zBowNLV"
      },
      "source": [
        "アメリカ、日本、韓国、ベトナム、中国の一人当たりGDPの折れ線グラフである"
      ]
    },
    {
      "cell_type": "code",
      "execution_count": null,
      "metadata": {
        "colab": {
          "base_uri": "https://localhost:8080/",
          "height": 313
        },
        "id": "OufSltquwWaM",
        "outputId": "0740fe72-ca6b-42be-8ec4-1e9325dfe83b",
        "trusted": true
      },
      "outputs": [],
      "source": [
        "sns.lineplot(data = pop, x = \"time\", y = \"Japan\")"
      ]
    },
    {
      "cell_type": "code",
      "execution_count": null,
      "metadata": {
        "id": "tLisL3y2w0Bp"
      },
      "outputs": [],
      "source": []
    },
    {
      "cell_type": "markdown",
      "metadata": {
        "id": "6-geE5yAw01_"
      },
      "source": [
        "日本の人口が減っていることが分かる"
      ]
    },
    {
      "cell_type": "code",
      "execution_count": null,
      "metadata": {
        "colab": {
          "base_uri": "https://localhost:8080/",
          "height": 313
        },
        "id": "7cDMF0r6x7Uj",
        "outputId": "ad8f7bb6-fbf5-4961-c71b-e056d869cb96",
        "trusted": true
      },
      "outputs": [],
      "source": [
        "ax = sns.lineplot(data = pop, x = \"time\", y = \"Japan\")\n",
        "ax.axvspan(2010, 2020, alpha=0.5, color='grey')"
      ]
    },
    {
      "cell_type": "code",
      "execution_count": null,
      "metadata": {
        "id": "cBFZlENDx69b"
      },
      "outputs": [],
      "source": []
    },
    {
      "cell_type": "markdown",
      "metadata": {
        "id": "ewIM7eYWx7-1"
      },
      "source": [
        "日本の人口が減ったところからグレーの領域を描いてみた"
      ]
    },
    {
      "cell_type": "code",
      "execution_count": null,
      "metadata": {
        "colab": {
          "base_uri": "https://localhost:8080/",
          "height": 206
        },
        "id": "p_9LmcvDwU3A",
        "outputId": "a6587e92-f9fc-4024-a3c2-31566dfd0c67",
        "trusted": true
      },
      "outputs": [],
      "source": [
        "pop2 = pop.loc[:,[\"time\", \"Japan\",\"United States\", \"South Korea\", \"Vietnam\", \"China\"]].melt(id_vars=\"time\",value_vars=[\"Japan\",\"United States\", \"South Korea\", \"Vietnam\", \"China\"])\n",
        "pop2.head()"
      ]
    },
    {
      "cell_type": "code",
      "execution_count": null,
      "metadata": {
        "colab": {
          "base_uri": "https://localhost:8080/",
          "height": 313
        },
        "id": "UAOgNBdxwpeW",
        "outputId": "856efd18-9313-4f0f-b199-87589c132280",
        "trusted": true
      },
      "outputs": [],
      "source": [
        "sns.lineplot(data = pop2, x = \"time\", y = \"value\", hue=\"variable\")"
      ]
    },
    {
      "cell_type": "code",
      "execution_count": null,
      "metadata": {
        "id": "rbLB-jJRxHZY"
      },
      "outputs": [],
      "source": []
    },
    {
      "cell_type": "markdown",
      "metadata": {
        "id": "ed_NnKRgxQ1p"
      },
      "source": [
        "アメリカ、日本、韓国、ベトナム、中国の人口の折れ線グラフである"
      ]
    },
    {
      "cell_type": "code",
      "execution_count": null,
      "metadata": {
        "colab": {
          "base_uri": "https://localhost:8080/",
          "height": 313
        },
        "id": "5dn84_oRxV_Q",
        "outputId": "14a7d2c3-ffd2-4aad-b094-47e28426ae03",
        "trusted": true
      },
      "outputs": [],
      "source": [
        "pop3 = pop2[pop2[\"variable\"] != \"China\"]\n",
        "sns.lineplot(data = pop3, x = \"time\", y = \"value\", hue=\"variable\")"
      ]
    },
    {
      "cell_type": "code",
      "execution_count": null,
      "metadata": {
        "id": "8sgNRVc8xeSd"
      },
      "outputs": [],
      "source": []
    },
    {
      "cell_type": "markdown",
      "metadata": {
        "id": "FiVkwuUnxj6T"
      },
      "source": [
        "中国が人口が多すぎたので、のぞいて描いたら、このようになる"
      ]
    },
    {
      "cell_type": "markdown",
      "metadata": {
        "id": "nAGNSOoKxv-5"
      },
      "source": [
        "# ３. 暗号通貨の折れ線グラフ"
      ]
    },
    {
      "cell_type": "code",
      "execution_count": null,
      "metadata": {
        "colab": {
          "base_uri": "https://localhost:8080/",
          "height": 206
        },
        "id": "Iv1LcmiMxoZ-",
        "outputId": "eb91734a-ffea-494f-956b-a4c170992b90",
        "trusted": true
      },
      "outputs": [],
      "source": [
        "data = pd.read_csv(pyodide.http.open_url(\"https://raw.githubusercontent.com/ChungWookyung/kg-jupyterlite-data-analysis/main/content/DATA/crypto.csv\"))\n",
        "data[\"time\"] = pd.to_datetime(data[\"time\"])\n",
        "data.head()"
      ]
    },
    {
      "cell_type": "markdown",
      "metadata": {
        "id": "zREa3XrGypDb"
      },
      "source": [
        "暗号通貨とそれ以外の資産の価格データを読み込んだ\n",
        "- BTCUSD : ビットコインの価格\n",
        "- ETHUSD : イーサリウムの価格\n",
        "- SPX : S&P500指数\n",
        "- USOIL : 原油価格\n",
        "- GOLD : 金の価格"
      ]
    },
    {
      "cell_type": "code",
      "execution_count": null,
      "metadata": {
        "colab": {
          "base_uri": "https://localhost:8080/",
          "height": 302
        },
        "id": "sj2RkuWYykW2",
        "outputId": "b0e4ddd7-be4d-4d64-d0da-00c15048edd3",
        "trusted": true
      },
      "outputs": [],
      "source": [
        "sns.lineplot(data = data, x = \"time\", y = \"BTCUSD\")"
      ]
    },
    {
      "cell_type": "code",
      "execution_count": null,
      "metadata": {
        "id": "D-ZtWz5LzB3K"
      },
      "outputs": [],
      "source": []
    },
    {
      "cell_type": "markdown",
      "metadata": {
        "id": "et1GtxByzKQ_"
      },
      "source": [
        "ビットコインの折れ線グラフ"
      ]
    },
    {
      "cell_type": "code",
      "execution_count": null,
      "metadata": {
        "colab": {
          "base_uri": "https://localhost:8080/",
          "height": 302
        },
        "id": "u8EIW6cLz46z",
        "outputId": "50afe07b-e8e6-4793-9491-1cd737910064",
        "trusted": true
      },
      "outputs": [],
      "source": [
        "ax = sns.lineplot(data = data, x = \"time\", y = \"BTCUSD\")\n",
        "ax.axvspan(pd.to_datetime(\"2016-07-09\"), pd.to_datetime(\"2017-12-01\"), alpha=0.5, color='grey')\n",
        "ax.axvspan(pd.to_datetime(\"2020-05-11\"), pd.to_datetime(\"2021-12-01\"), alpha=0.5, color='grey')"
      ]
    },
    {
      "cell_type": "code",
      "execution_count": null,
      "metadata": {
        "id": "YYXeYIkiz5cW"
      },
      "outputs": [],
      "source": []
    },
    {
      "cell_type": "markdown",
      "metadata": {
        "id": "ABolyfBW0-y5"
      },
      "source": [
        "ビットコインの半減期をグレーに塗ってみた"
      ]
    },
    {
      "cell_type": "code",
      "execution_count": null,
      "metadata": {
        "colab": {
          "base_uri": "https://localhost:8080/",
          "height": 302
        },
        "id": "2G_T8RpNzMPu",
        "outputId": "c12f4249-3694-41d9-c684-acfb87d510a4",
        "trusted": true
      },
      "outputs": [],
      "source": [
        "sns.lineplot(data = data, x = \"time\", y = \"ETHUSD\")"
      ]
    },
    {
      "cell_type": "code",
      "execution_count": null,
      "metadata": {
        "id": "vRmpoFrMzTvf"
      },
      "outputs": [],
      "source": []
    },
    {
      "cell_type": "markdown",
      "metadata": {
        "id": "_O3BxJ2JzWLJ"
      },
      "source": [
        "イーサリウムの折れ線グラフ"
      ]
    },
    {
      "cell_type": "code",
      "execution_count": null,
      "metadata": {
        "colab": {
          "base_uri": "https://localhost:8080/",
          "height": 206
        },
        "id": "Olt6yNhqzdEb",
        "outputId": "ad6653da-5aa8-4371-9ada-7fe97ac3c1e4",
        "trusted": true
      },
      "outputs": [],
      "source": [
        "data2 = data.melt(id_vars=\"time\", value_vars=data.columns[1:])\n",
        "data2.head()"
      ]
    },
    {
      "cell_type": "code",
      "execution_count": null,
      "metadata": {
        "colab": {
          "base_uri": "https://localhost:8080/",
          "height": 302
        },
        "id": "3ovqJ4RV1QQq",
        "outputId": "2929d5ad-f346-4dc5-fe60-3d075678286f",
        "trusted": true
      },
      "outputs": [],
      "source": [
        "sns.lineplot(data = data2, x = \"time\", y = \"value\", hue = \"variable\")"
      ]
    },
    {
      "cell_type": "code",
      "execution_count": null,
      "metadata": {
        "id": "SoXeLA561UzH"
      },
      "outputs": [],
      "source": []
    },
    {
      "cell_type": "markdown",
      "metadata": {
        "id": "xMpjL5ES1buN"
      },
      "source": [
        "全てを一つの図に描いたら、ビットコインの価格が大きすぎて、あまり見えない"
      ]
    },
    {
      "cell_type": "code",
      "execution_count": null,
      "metadata": {
        "colab": {
          "base_uri": "https://localhost:8080/",
          "height": 366
        },
        "id": "z8rTGTWA1ha1",
        "outputId": "eb7edf0e-8503-4be2-affd-54e58ecae63d",
        "trusted": true
      },
      "outputs": [],
      "source": [
        "sns.lineplot(data = data2[data2[\"time\"] < \"2018-01-01\"], x = \"time\", y = \"value\", hue = \"variable\")\n",
        "plt.xticks(rotation=45)"
      ]
    },
    {
      "cell_type": "code",
      "execution_count": null,
      "metadata": {
        "id": "gN5k9-9e1q2z"
      },
      "outputs": [],
      "source": []
    },
    {
      "cell_type": "markdown",
      "metadata": {
        "id": "GwQc7LFO2Ooh"
      },
      "source": [
        "2018年1月1日以前に絞ったら、どれくらいビットコインが激しく成長するのかが分かる"
      ]
    }
  ],
  "metadata": {
    "colab": {
      "name": "DA05.ipynb",
      "provenance": []
    },
    "kernelspec": {
      "display_name": "Pyolite",
      "language": "python",
      "name": "python"
    },
    "language_info": {
      "codemirror_mode": {
        "name": "python",
        "version": 3
      },
      "file_extension": ".py",
      "mimetype": "text/x-python",
      "name": "python",
      "nbconvert_exporter": "python",
      "pygments_lexer": "ipython3",
      "version": "3.8"
    }
  },
  "nbformat": 4,
  "nbformat_minor": 4
}
